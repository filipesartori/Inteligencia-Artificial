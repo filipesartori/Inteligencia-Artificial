{
  "nbformat": 4,
  "nbformat_minor": 0,
  "metadata": {
    "colab": {
      "name": "Classificação de sentimentos com Spacy (TWITTER).ipynb",
      "provenance": [],
      "authorship_tag": "ABX9TyNoeT3XQTSukfB9tmEMoaSa",
      "include_colab_link": true
    },
    "kernelspec": {
      "name": "python3",
      "display_name": "Python 3"
    },
    "language_info": {
      "name": "python"
    }
  },
  "cells": [
    {
      "cell_type": "markdown",
      "metadata": {
        "id": "view-in-github",
        "colab_type": "text"
      },
      "source": [
        "<a href=\"https://colab.research.google.com/github/filipesartori/Inteligencia-Artificial/blob/main/Classifica%C3%A7%C3%A3o_de_sentimentos_com_Spacy_(TWITTER).ipynb\" target=\"_parent\"><img src=\"https://colab.research.google.com/assets/colab-badge.svg\" alt=\"Open In Colab\"/></a>"
      ]
    },
    {
      "cell_type": "markdown",
      "metadata": {
        "id": "nVNccU4Qr-QR"
      },
      "source": [
        "# Classificação de textos do Twitter com spaCy"
      ]
    },
    {
      "cell_type": "markdown",
      "metadata": {
        "id": "OYqpiSy2sA3H"
      },
      "source": [
        "## Importação e instalação das bibliotecas"
      ]
    },
    {
      "cell_type": "code",
      "metadata": {
        "id": "F4_FL-8nqhE2"
      },
      "source": [
        "!pip install -q spacy==2.2.3"
      ],
      "execution_count": 12,
      "outputs": []
    },
    {
      "cell_type": "code",
      "metadata": {
        "colab": {
          "base_uri": "https://localhost:8080/",
          "height": 35
        },
        "id": "lotOO3Vdr7Jh",
        "outputId": "9825831e-8fa9-426b-a92e-20c04b6191eb"
      },
      "source": [
        "import spacy\n",
        "spacy.__version__"
      ],
      "execution_count": 13,
      "outputs": [
        {
          "output_type": "execute_result",
          "data": {
            "application/vnd.google.colaboratory.intrinsic+json": {
              "type": "string"
            },
            "text/plain": [
              "'2.2.3'"
            ]
          },
          "metadata": {},
          "execution_count": 13
        }
      ]
    },
    {
      "cell_type": "code",
      "metadata": {
        "colab": {
          "base_uri": "https://localhost:8080/",
          "height": 0
        },
        "id": "Au_cdLnfttxR",
        "outputId": "586d7436-7d74-4548-da77-695e3ff4ac2f"
      },
      "source": [
        "!python3 -m spacy download pt"
      ],
      "execution_count": 14,
      "outputs": [
        {
          "output_type": "stream",
          "name": "stdout",
          "text": [
            "Collecting pt_core_news_sm==2.2.5\n",
            "  Downloading https://github.com/explosion/spacy-models/releases/download/pt_core_news_sm-2.2.5/pt_core_news_sm-2.2.5.tar.gz (21.2 MB)\n",
            "\u001b[K     |████████████████████████████████| 21.2 MB 1.1 MB/s \n",
            "\u001b[?25hRequirement already satisfied: spacy>=2.2.2 in /usr/local/lib/python3.7/dist-packages (from pt_core_news_sm==2.2.5) (2.2.3)\n",
            "Requirement already satisfied: plac<1.2.0,>=0.9.6 in /usr/local/lib/python3.7/dist-packages (from spacy>=2.2.2->pt_core_news_sm==2.2.5) (1.1.3)\n",
            "Requirement already satisfied: wasabi<1.1.0,>=0.4.0 in /usr/local/lib/python3.7/dist-packages (from spacy>=2.2.2->pt_core_news_sm==2.2.5) (0.8.2)\n",
            "Requirement already satisfied: numpy>=1.15.0 in /usr/local/lib/python3.7/dist-packages (from spacy>=2.2.2->pt_core_news_sm==2.2.5) (1.19.5)\n",
            "Requirement already satisfied: preshed<3.1.0,>=3.0.2 in /usr/local/lib/python3.7/dist-packages (from spacy>=2.2.2->pt_core_news_sm==2.2.5) (3.0.5)\n",
            "Requirement already satisfied: requests<3.0.0,>=2.13.0 in /usr/local/lib/python3.7/dist-packages (from spacy>=2.2.2->pt_core_news_sm==2.2.5) (2.23.0)\n",
            "Requirement already satisfied: blis<0.5.0,>=0.4.0 in /usr/local/lib/python3.7/dist-packages (from spacy>=2.2.2->pt_core_news_sm==2.2.5) (0.4.1)\n",
            "Requirement already satisfied: cymem<2.1.0,>=2.0.2 in /usr/local/lib/python3.7/dist-packages (from spacy>=2.2.2->pt_core_news_sm==2.2.5) (2.0.5)\n",
            "Requirement already satisfied: catalogue<1.1.0,>=0.0.7 in /usr/local/lib/python3.7/dist-packages (from spacy>=2.2.2->pt_core_news_sm==2.2.5) (1.0.0)\n",
            "Requirement already satisfied: thinc<7.4.0,>=7.3.0 in /usr/local/lib/python3.7/dist-packages (from spacy>=2.2.2->pt_core_news_sm==2.2.5) (7.3.1)\n",
            "Requirement already satisfied: murmurhash<1.1.0,>=0.28.0 in /usr/local/lib/python3.7/dist-packages (from spacy>=2.2.2->pt_core_news_sm==2.2.5) (1.0.5)\n",
            "Requirement already satisfied: setuptools in /usr/local/lib/python3.7/dist-packages (from spacy>=2.2.2->pt_core_news_sm==2.2.5) (57.4.0)\n",
            "Requirement already satisfied: srsly<1.1.0,>=0.1.0 in /usr/local/lib/python3.7/dist-packages (from spacy>=2.2.2->pt_core_news_sm==2.2.5) (1.0.5)\n",
            "Requirement already satisfied: importlib-metadata>=0.20 in /usr/local/lib/python3.7/dist-packages (from catalogue<1.1.0,>=0.0.7->spacy>=2.2.2->pt_core_news_sm==2.2.5) (4.8.1)\n",
            "Requirement already satisfied: typing-extensions>=3.6.4 in /usr/local/lib/python3.7/dist-packages (from importlib-metadata>=0.20->catalogue<1.1.0,>=0.0.7->spacy>=2.2.2->pt_core_news_sm==2.2.5) (3.7.4.3)\n",
            "Requirement already satisfied: zipp>=0.5 in /usr/local/lib/python3.7/dist-packages (from importlib-metadata>=0.20->catalogue<1.1.0,>=0.0.7->spacy>=2.2.2->pt_core_news_sm==2.2.5) (3.6.0)\n",
            "Requirement already satisfied: chardet<4,>=3.0.2 in /usr/local/lib/python3.7/dist-packages (from requests<3.0.0,>=2.13.0->spacy>=2.2.2->pt_core_news_sm==2.2.5) (3.0.4)\n",
            "Requirement already satisfied: certifi>=2017.4.17 in /usr/local/lib/python3.7/dist-packages (from requests<3.0.0,>=2.13.0->spacy>=2.2.2->pt_core_news_sm==2.2.5) (2021.5.30)\n",
            "Requirement already satisfied: urllib3!=1.25.0,!=1.25.1,<1.26,>=1.21.1 in /usr/local/lib/python3.7/dist-packages (from requests<3.0.0,>=2.13.0->spacy>=2.2.2->pt_core_news_sm==2.2.5) (1.24.3)\n",
            "Requirement already satisfied: idna<3,>=2.5 in /usr/local/lib/python3.7/dist-packages (from requests<3.0.0,>=2.13.0->spacy>=2.2.2->pt_core_news_sm==2.2.5) (2.10)\n",
            "Requirement already satisfied: tqdm<5.0.0,>=4.10.0 in /usr/local/lib/python3.7/dist-packages (from thinc<7.4.0,>=7.3.0->spacy>=2.2.2->pt_core_news_sm==2.2.5) (4.62.3)\n",
            "\u001b[38;5;2m✔ Download and installation successful\u001b[0m\n",
            "You can now load the model via spacy.load('pt_core_news_sm')\n",
            "\u001b[38;5;2m✔ Linking successful\u001b[0m\n",
            "/usr/local/lib/python3.7/dist-packages/pt_core_news_sm -->\n",
            "/usr/local/lib/python3.7/dist-packages/spacy/data/pt\n",
            "You can now load the model via spacy.load('pt')\n"
          ]
        }
      ]
    },
    {
      "cell_type": "code",
      "metadata": {
        "id": "kTdLaUqM7CJk"
      },
      "source": [
        "import pandas as pd\n",
        "import string\n",
        "import spacy\n",
        "import random\n",
        "import seaborn as sns\n",
        "import numpy as np\n",
        "import re"
      ],
      "execution_count": 15,
      "outputs": []
    },
    {
      "cell_type": "markdown",
      "metadata": {
        "id": "git9PDycsFA0"
      },
      "source": [
        "## Carregamento das bases de dados"
      ]
    },
    {
      "cell_type": "code",
      "metadata": {
        "id": "sH2YIUWX7UlP"
      },
      "source": [
        "base_treinamento = pd.read_csv('/content/Train50.csv', delimiter = ';')"
      ],
      "execution_count": 79,
      "outputs": []
    },
    {
      "cell_type": "code",
      "metadata": {
        "colab": {
          "base_uri": "https://localhost:8080/",
          "height": 333
        },
        "id": "yfg-zD3f8cE3",
        "outputId": "8acc41f5-8201-4e87-cdc9-7253fe8ba1d2"
      },
      "source": [
        "sns.countplot(base_treinamento['sentiment'], label = 'Contagem');"
      ],
      "execution_count": 80,
      "outputs": [
        {
          "output_type": "stream",
          "name": "stderr",
          "text": [
            "/usr/local/lib/python3.7/dist-packages/seaborn/_decorators.py:43: FutureWarning: Pass the following variable as a keyword arg: x. From version 0.12, the only valid positional argument will be `data`, and passing other arguments without an explicit keyword will result in an error or misinterpretation.\n",
            "  FutureWarning\n"
          ]
        },
        {
          "output_type": "display_data",
          "data": {
            "image/png": "[encoded data removed]",
            "text/plain": [
              "<Figure size 432x288 with 1 Axes>"
            ]
          },
          "metadata": {
            "needs_background": "light"
          }
        }
      ]
    },
    {
      "cell_type": "code",
      "metadata": {
        "id": "PMWe0HiObtF3"
      },
      "source": [
        "base_treinamento.drop(['id', 'tweet_date', 'query_used'], axis=1, inplace=True)"
      ],
      "execution_count": 81,
      "outputs": []
    },
    {
      "cell_type": "code",
      "metadata": {
        "colab": {
          "base_uri": "https://localhost:8080/",
          "height": 204
        },
        "id": "ZP6pnxARcKbe",
        "outputId": "7052cd37-8d84-402b-ac18-36890ede4188"
      },
      "source": [
        "base_treinamento.head()"
      ],
      "execution_count": 83,
      "outputs": [
        {
          "output_type": "execute_result",
          "data": {
            "text/html": [
              "<div>\n",
              "<style scoped>\n",
              "    .dataframe tbody tr th:only-of-type {\n",
              "        vertical-align: middle;\n",
              "    }\n",
              "\n",
              "    .dataframe tbody tr th {\n",
              "        vertical-align: top;\n",
              "    }\n",
              "\n",
              "    .dataframe thead th {\n",
              "        text-align: right;\n",
              "    }\n",
              "</style>\n",
              "<table border=\"1\" class=\"dataframe\">\n",
              "  <thead>\n",
              "    <tr style=\"text-align: right;\">\n",
              "      <th></th>\n",
              "      <th>tweet_text</th>\n",
              "      <th>sentiment</th>\n",
              "    </tr>\n",
              "  </thead>\n",
              "  <tbody>\n",
              "    <tr>\n",
              "      <th>0</th>\n",
              "      <td>@Laranjito76 A pessoa certa para isso seria o ...</td>\n",
              "      <td>1</td>\n",
              "    </tr>\n",
              "    <tr>\n",
              "      <th>1</th>\n",
              "      <td>@behin_d_curtain Para mim, é precisamente o co...</td>\n",
              "      <td>1</td>\n",
              "    </tr>\n",
              "    <tr>\n",
              "      <th>2</th>\n",
              "      <td>Vou fazer um video hoje... estou pensando em f...</td>\n",
              "      <td>1</td>\n",
              "    </tr>\n",
              "    <tr>\n",
              "      <th>3</th>\n",
              "      <td>aaaaaaaa amei tanto essas polaroids, nem sei e...</td>\n",
              "      <td>1</td>\n",
              "    </tr>\n",
              "    <tr>\n",
              "      <th>4</th>\n",
              "      <td>Valoriza o coração do menininho que vc tem. El...</td>\n",
              "      <td>1</td>\n",
              "    </tr>\n",
              "  </tbody>\n",
              "</table>\n",
              "</div>"
            ],
            "text/plain": [
              "                                          tweet_text  sentiment\n",
              "0  @Laranjito76 A pessoa certa para isso seria o ...          1\n",
              "1  @behin_d_curtain Para mim, é precisamente o co...          1\n",
              "2  Vou fazer um video hoje... estou pensando em f...          1\n",
              "3  aaaaaaaa amei tanto essas polaroids, nem sei e...          1\n",
              "4  Valoriza o coração do menininho que vc tem. El...          1"
            ]
          },
          "metadata": {},
          "execution_count": 83
        }
      ]
    },
    {
      "cell_type": "code",
      "metadata": {
        "id": "RZmAu-ZwcmZM"
      },
      "source": [
        "base_teste = pd.read_csv('/content/Test.csv', delimiter=';')"
      ],
      "execution_count": 84,
      "outputs": []
    },
    {
      "cell_type": "code",
      "metadata": {
        "id": "4PbdoNG9dBmD"
      },
      "source": [
        "base_teste.drop(['id', 'tweet_date', 'query_used'], axis=1, inplace=True)"
      ],
      "execution_count": 85,
      "outputs": []
    },
    {
      "cell_type": "markdown",
      "metadata": {
        "id": "7WY8H2iIseYe"
      },
      "source": [
        "## Função para pré-processamento dos textos\n",
        "\n",
        "- Letras minúsculas\n",
        "- Nome do usuário (@)\n",
        "- URLs\n",
        "- Espaços em branco\n",
        "- Emoticons\n",
        "- Stop words\n",
        "- Lematização\n",
        "- Pontuações"
      ]
    },
    {
      "cell_type": "code",
      "metadata": {
        "id": "E-Qhl5ga9dxt"
      },
      "source": [
        "pln = spacy.load('pt')"
      ],
      "execution_count": 86,
      "outputs": []
    },
    {
      "cell_type": "code",
      "metadata": {
        "id": "fbqNIUdc9o8P"
      },
      "source": [
        "stop_words = spacy.lang.pt.stop_words.STOP_WORDS"
      ],
      "execution_count": 87,
      "outputs": []
    },
    {
      "cell_type": "code",
      "metadata": {
        "id": "Rl0Gv40A-dU5"
      },
      "source": [
        "def preprocessamento(texto):\n",
        "  texto = texto.lower()\n",
        "  \n",
        "  texto = re.sub(r\"@[A-Za-z0-9$-_@.&+]+\", ' ', texto)\n",
        "\n",
        "  texto = re.sub(r\"https?://[A-Za-z0-9./]+\", ' ', texto)\n",
        "\n",
        "  texto = re.sub(r\" +\", ' ', texto)\n",
        "\n",
        "  lista_emocoes = {':)': 'emocaopositiva',\n",
        "                   ':d': 'emocaopositiva',\n",
        "                   ':(': 'emocaonegativa'}\n",
        "  for emocao in lista_emocoes:\n",
        "    texto = texto.replace(emocao, lista_emocoes[emocao]) \n",
        "\n",
        "\n",
        "  documento = pln(texto)                  \n",
        "\n",
        "  lista = []\n",
        "  for token in documento:\n",
        "    lista.append(token.lemma_)\n",
        "\n",
        "  lista = [palavra for palavra in lista if palavra not in stop_words and palavra not in string.punctuation]  \n",
        "  lista = ' '.join([str(elemento) for elemento in lista if not elemento.isdigit()])\n",
        "\n",
        "  return lista  \n",
        "\n"
      ],
      "execution_count": 88,
      "outputs": []
    },
    {
      "cell_type": "markdown",
      "metadata": {
        "id": "YDElwLTasrVb"
      },
      "source": [
        "## Limpeza dos textos"
      ]
    },
    {
      "cell_type": "code",
      "metadata": {
        "colab": {
          "base_uri": "https://localhost:8080/",
          "height": 359
        },
        "id": "b1NrXcLxB6DB",
        "outputId": "12738679-4bd2-47cc-e99c-5574efa1c5e7"
      },
      "source": [
        "base_treinamento.head(10)"
      ],
      "execution_count": 89,
      "outputs": [
        {
          "output_type": "execute_result",
          "data": {
            "text/html": [
              "<div>\n",
              "<style scoped>\n",
              "    .dataframe tbody tr th:only-of-type {\n",
              "        vertical-align: middle;\n",
              "    }\n",
              "\n",
              "    .dataframe tbody tr th {\n",
              "        vertical-align: top;\n",
              "    }\n",
              "\n",
              "    .dataframe thead th {\n",
              "        text-align: right;\n",
              "    }\n",
              "</style>\n",
              "<table border=\"1\" class=\"dataframe\">\n",
              "  <thead>\n",
              "    <tr style=\"text-align: right;\">\n",
              "      <th></th>\n",
              "      <th>tweet_text</th>\n",
              "      <th>sentiment</th>\n",
              "    </tr>\n",
              "  </thead>\n",
              "  <tbody>\n",
              "    <tr>\n",
              "      <th>0</th>\n",
              "      <td>@Laranjito76 A pessoa certa para isso seria o ...</td>\n",
              "      <td>1</td>\n",
              "    </tr>\n",
              "    <tr>\n",
              "      <th>1</th>\n",
              "      <td>@behin_d_curtain Para mim, é precisamente o co...</td>\n",
              "      <td>1</td>\n",
              "    </tr>\n",
              "    <tr>\n",
              "      <th>2</th>\n",
              "      <td>Vou fazer um video hoje... estou pensando em f...</td>\n",
              "      <td>1</td>\n",
              "    </tr>\n",
              "    <tr>\n",
              "      <th>3</th>\n",
              "      <td>aaaaaaaa amei tanto essas polaroids, nem sei e...</td>\n",
              "      <td>1</td>\n",
              "    </tr>\n",
              "    <tr>\n",
              "      <th>4</th>\n",
              "      <td>Valoriza o coração do menininho que vc tem. El...</td>\n",
              "      <td>1</td>\n",
              "    </tr>\n",
              "    <tr>\n",
              "      <th>5</th>\n",
              "      <td>@KingJokerLeto mas amiga eu to aqui ainda :)</td>\n",
              "      <td>1</td>\n",
              "    </tr>\n",
              "    <tr>\n",
              "      <th>6</th>\n",
              "      <td>@RivasJairo Bravo, Jairo!!! :)))</td>\n",
              "      <td>1</td>\n",
              "    </tr>\n",
              "    <tr>\n",
              "      <th>7</th>\n",
              "      <td>@inquilinasls @Spotify socorro ksoaksosks acho...</td>\n",
              "      <td>1</td>\n",
              "    </tr>\n",
              "    <tr>\n",
              "      <th>8</th>\n",
              "      <td>@chimekarlla gosto muito de fazenda :) , mas m...</td>\n",
              "      <td>1</td>\n",
              "    </tr>\n",
              "    <tr>\n",
              "      <th>9</th>\n",
              "      <td>Amanha vou ver venom :D</td>\n",
              "      <td>1</td>\n",
              "    </tr>\n",
              "  </tbody>\n",
              "</table>\n",
              "</div>"
            ],
            "text/plain": [
              "                                          tweet_text  sentiment\n",
              "0  @Laranjito76 A pessoa certa para isso seria o ...          1\n",
              "1  @behin_d_curtain Para mim, é precisamente o co...          1\n",
              "2  Vou fazer um video hoje... estou pensando em f...          1\n",
              "3  aaaaaaaa amei tanto essas polaroids, nem sei e...          1\n",
              "4  Valoriza o coração do menininho que vc tem. El...          1\n",
              "5       @KingJokerLeto mas amiga eu to aqui ainda :)          1\n",
              "6                   @RivasJairo Bravo, Jairo!!! :)))          1\n",
              "7  @inquilinasls @Spotify socorro ksoaksosks acho...          1\n",
              "8  @chimekarlla gosto muito de fazenda :) , mas m...          1\n",
              "9                            Amanha vou ver venom :D          1"
            ]
          },
          "metadata": {},
          "execution_count": 89
        }
      ]
    },
    {
      "cell_type": "code",
      "metadata": {
        "id": "Kl9PJhqiCAuj"
      },
      "source": [
        "base_treinamento['tweet_text'] = base_treinamento['tweet_text'].apply(preprocessamento)"
      ],
      "execution_count": 90,
      "outputs": []
    },
    {
      "cell_type": "code",
      "metadata": {
        "colab": {
          "base_uri": "https://localhost:8080/",
          "height": 204
        },
        "id": "dYJmJt7MCb0E",
        "outputId": "e5fe3cb1-142c-4cc8-aa62-0f7055a0fb8d"
      },
      "source": [
        "base_treinamento.head()"
      ],
      "execution_count": 91,
      "outputs": [
        {
          "output_type": "execute_result",
          "data": {
            "text/html": [
              "<div>\n",
              "<style scoped>\n",
              "    .dataframe tbody tr th:only-of-type {\n",
              "        vertical-align: middle;\n",
              "    }\n",
              "\n",
              "    .dataframe tbody tr th {\n",
              "        vertical-align: top;\n",
              "    }\n",
              "\n",
              "    .dataframe thead th {\n",
              "        text-align: right;\n",
              "    }\n",
              "</style>\n",
              "<table border=\"1\" class=\"dataframe\">\n",
              "  <thead>\n",
              "    <tr style=\"text-align: right;\">\n",
              "      <th></th>\n",
              "      <th>tweet_text</th>\n",
              "      <th>sentiment</th>\n",
              "    </tr>\n",
              "  </thead>\n",
              "  <tbody>\n",
              "    <tr>\n",
              "      <th>0</th>\n",
              "      <td>o pessoa certo parir seriar o valer e azeved...</td>\n",
              "      <td>1</td>\n",
              "    </tr>\n",
              "    <tr>\n",
              "      <th>1</th>\n",
              "      <td>parir mim precisamente o contrário emocaopos...</td>\n",
              "      <td>1</td>\n",
              "    </tr>\n",
              "    <tr>\n",
              "      <th>2</th>\n",
              "      <td>video hoje ... pensar falar sobrar o meter csg...</td>\n",
              "      <td>1</td>\n",
              "    </tr>\n",
              "    <tr>\n",
              "      <th>3</th>\n",
              "      <td>aaaaaaaa amar polaroids expressar o quantum to...</td>\n",
              "      <td>1</td>\n",
              "    </tr>\n",
              "    <tr>\n",
              "      <th>4</th>\n",
              "      <td>valorizar o coração menino vc diferente o sorr...</td>\n",
              "      <td>1</td>\n",
              "    </tr>\n",
              "  </tbody>\n",
              "</table>\n",
              "</div>"
            ],
            "text/plain": [
              "                                          tweet_text  sentiment\n",
              "0    o pessoa certo parir seriar o valer e azeved...          1\n",
              "1    parir mim precisamente o contrário emocaopos...          1\n",
              "2  video hoje ... pensar falar sobrar o meter csg...          1\n",
              "3  aaaaaaaa amar polaroids expressar o quantum to...          1\n",
              "4  valorizar o coração menino vc diferente o sorr...          1"
            ]
          },
          "metadata": {},
          "execution_count": 91
        }
      ]
    },
    {
      "cell_type": "code",
      "metadata": {
        "id": "eLClDfKRizMG"
      },
      "source": [
        "base_teste['tweet_text'] = base_teste['tweet_text'].apply(preprocessamento)"
      ],
      "execution_count": 92,
      "outputs": []
    },
    {
      "cell_type": "code",
      "metadata": {
        "colab": {
          "base_uri": "https://localhost:8080/",
          "height": 204
        },
        "id": "0luaFtImjLQs",
        "outputId": "d4fc5aca-3b40-47bb-ff0e-619234e74812"
      },
      "source": [
        "base_teste.head()"
      ],
      "execution_count": 93,
      "outputs": [
        {
          "output_type": "execute_result",
          "data": {
            "text/html": [
              "<div>\n",
              "<style scoped>\n",
              "    .dataframe tbody tr th:only-of-type {\n",
              "        vertical-align: middle;\n",
              "    }\n",
              "\n",
              "    .dataframe tbody tr th {\n",
              "        vertical-align: top;\n",
              "    }\n",
              "\n",
              "    .dataframe thead th {\n",
              "        text-align: right;\n",
              "    }\n",
              "</style>\n",
              "<table border=\"1\" class=\"dataframe\">\n",
              "  <thead>\n",
              "    <tr style=\"text-align: right;\">\n",
              "      <th></th>\n",
              "      <th>tweet_text</th>\n",
              "      <th>sentiment</th>\n",
              "    </tr>\n",
              "  </thead>\n",
              "  <tbody>\n",
              "    <tr>\n",
              "      <th>0</th>\n",
              "      <td>obrigar emocaopositiva</td>\n",
              "      <td>1</td>\n",
              "    </tr>\n",
              "    <tr>\n",
              "      <th>1</th>\n",
              "      <td>pa puta parir emocaopositiva</td>\n",
              "      <td>1</td>\n",
              "    </tr>\n",
              "    <tr>\n",
              "      <th>2</th>\n",
              "      <td>querer desconto 14/08 ⭐ ⭐ ⭐ ⭐ ⭐ 🌐 conferir o l...</td>\n",
              "      <td>1</td>\n",
              "    </tr>\n",
              "    <tr>\n",
              "      <th>3</th>\n",
              "      <td>vcs ajudar galera pelar amor butera emocaoposi...</td>\n",
              "      <td>1</td>\n",
              "    </tr>\n",
              "    <tr>\n",
              "      <th>4</th>\n",
              "      <td>casar zé e o morrer sono chegar o casar e fica...</td>\n",
              "      <td>1</td>\n",
              "    </tr>\n",
              "  </tbody>\n",
              "</table>\n",
              "</div>"
            ],
            "text/plain": [
              "                                          tweet_text  sentiment\n",
              "0                             obrigar emocaopositiva          1\n",
              "1                       pa puta parir emocaopositiva          1\n",
              "2  querer desconto 14/08 ⭐ ⭐ ⭐ ⭐ ⭐ 🌐 conferir o l...          1\n",
              "3  vcs ajudar galera pelar amor butera emocaoposi...          1\n",
              "4  casar zé e o morrer sono chegar o casar e fica...          1"
            ]
          },
          "metadata": {},
          "execution_count": 93
        }
      ]
    },
    {
      "cell_type": "markdown",
      "metadata": {
        "id": "7Gt43V0Dsxao"
      },
      "source": [
        "## Tratamento da classe"
      ]
    },
    {
      "cell_type": "code",
      "metadata": {
        "id": "P0KvmeukDk82"
      },
      "source": [
        "base_dados_treinamento_final = []\n",
        "for texto, emocao in zip(base_treinamento['tweet_text'], base_treinamento['sentiment']):\n",
        "  if emocao == 1:\n",
        "    dic = ({'POSITIVO': True, 'NEGATIVO': False})\n",
        "  elif emocao == 0:\n",
        "    dic = ({'POSITIVO': False, 'NEGATIVO': True})\n",
        "\n",
        "  base_dados_treinamento_final.append([texto, dic.copy()])    \n"
      ],
      "execution_count": 156,
      "outputs": []
    },
    {
      "cell_type": "code",
      "metadata": {
        "id": "gxAJC-VlE9ui"
      },
      "source": [
        "base_dados_treinamento_final"
      ],
      "execution_count": null,
      "outputs": []
    },
    {
      "cell_type": "markdown",
      "metadata": {
        "id": "FrqU-kqws5RW"
      },
      "source": [
        "## Criação do classificador"
      ]
    },
    {
      "cell_type": "code",
      "metadata": {
        "id": "NnMZpzwxFk3Z"
      },
      "source": [
        "modelo = spacy.blank('pt')\n",
        "categorias = modelo.create_pipe(\"textcat\")\n",
        "categorias.add_label(\"POSITIVO\")\n",
        "categorias.add_label(\"NEGATIVO\")\n",
        "modelo.add_pipe(categorias)\n",
        "historico = []"
      ],
      "execution_count": 159,
      "outputs": []
    },
    {
      "cell_type": "code",
      "metadata": {
        "colab": {
          "base_uri": "https://localhost:8080/"
        },
        "id": "UGUTL0KVJotq",
        "outputId": "7daa4984-2875-4f65-ce9e-fa15169e66b8"
      },
      "source": [
        "modelo.begin_training()\n",
        "for epoca in range(5):\n",
        "  random.shuffle(base_dados_treinamento_final)\n",
        "  losses = {}\n",
        "  for batch in spacy.util.minibatch(base_dados_treinamento_final, 512):\n",
        "    textos = [modelo(texto) for texto, entities in batch]\n",
        "    annotations = [{'cats': entities} for texto, entities in batch]\n",
        "    modelo.update(textos, annotations, losses=losses)\n",
        "    historico.append(losses)\n",
        "  if epoca % 5 == 0:\n",
        "    print(losses)"
      ],
      "execution_count": 160,
      "outputs": [
        {
          "output_type": "stream",
          "name": "stdout",
          "text": [
            "{'textcat': 7.870316117208898e-06}\n"
          ]
        }
      ]
    },
    {
      "cell_type": "code",
      "metadata": {
        "id": "LcoPILOyQwdH"
      },
      "source": [
        "historico_loss = []\n",
        "for i in historico:\n",
        "  historico_loss.append(i.get('textcat')) "
      ],
      "execution_count": 161,
      "outputs": []
    },
    {
      "cell_type": "code",
      "metadata": {
        "colab": {
          "base_uri": "https://localhost:8080/"
        },
        "id": "f27CNtLORKes",
        "outputId": "28940a61-e9ec-4ec1-a0fe-88b104a7ccd4"
      },
      "source": [
        "historico_loss = np.array(historico_loss)\n",
        "historico_loss"
      ],
      "execution_count": 162,
      "outputs": [
        {
          "output_type": "execute_result",
          "data": {
            "text/plain": [
              "array([7.87031612e-06, 7.87031612e-06, 7.87031612e-06, 7.87031612e-06,\n",
              "       7.87031612e-06, 7.87031612e-06, 7.87031612e-06, 7.87031612e-06,\n",
              "       7.87031612e-06, 7.87031612e-06, 7.87031612e-06, 7.87031612e-06,\n",
              "       7.87031612e-06, 7.87031612e-06, 7.87031612e-06, 7.87031612e-06,\n",
              "       7.87031612e-06, 7.87031612e-06, 7.87031612e-06, 7.87031612e-06,\n",
              "       7.87031612e-06, 7.87031612e-06, 7.87031612e-06, 7.87031612e-06,\n",
              "       7.87031612e-06, 7.87031612e-06, 7.87031612e-06, 7.87031612e-06,\n",
              "       7.87031612e-06, 7.87031612e-06, 7.87031612e-06, 7.87031612e-06,\n",
              "       7.87031612e-06, 7.87031612e-06, 7.87031612e-06, 7.87031612e-06,\n",
              "       7.87031612e-06, 7.87031612e-06, 7.87031612e-06, 7.87031612e-06,\n",
              "       7.87031612e-06, 7.87031612e-06, 7.87031612e-06, 7.87031612e-06,\n",
              "       7.87031612e-06, 7.87031612e-06, 7.87031612e-06, 7.87031612e-06,\n",
              "       7.87031612e-06, 7.87031612e-06, 7.87031612e-06, 7.87031612e-06,\n",
              "       7.87031612e-06, 7.87031612e-06, 7.87031612e-06, 7.87031612e-06,\n",
              "       7.87031612e-06, 7.87031612e-06, 7.87031612e-06, 7.87031612e-06,\n",
              "       7.87031612e-06, 7.87031612e-06, 7.87031612e-06, 7.87031612e-06,\n",
              "       7.87031612e-06, 7.87031612e-06, 7.87031612e-06, 7.87031612e-06,\n",
              "       7.87031612e-06, 7.87031612e-06, 7.87031612e-06, 7.87031612e-06,\n",
              "       7.87031612e-06, 7.87031612e-06, 7.87031612e-06, 7.87031612e-06,\n",
              "       7.87031612e-06, 7.87031612e-06, 7.87031612e-06, 7.87031612e-06,\n",
              "       7.87031612e-06, 7.87031612e-06, 7.87031612e-06, 7.87031612e-06,\n",
              "       7.87031612e-06, 7.87031612e-06, 7.87031612e-06, 7.87031612e-06,\n",
              "       7.87031612e-06, 7.87031612e-06, 7.87031612e-06, 7.87031612e-06,\n",
              "       7.87031612e-06, 7.87031612e-06, 7.87031612e-06, 7.87031612e-06,\n",
              "       7.87031612e-06, 7.87031612e-06, 9.54791828e-07, 9.54791828e-07,\n",
              "       9.54791828e-07, 9.54791828e-07, 9.54791828e-07, 9.54791828e-07,\n",
              "       9.54791828e-07, 9.54791828e-07, 9.54791828e-07, 9.54791828e-07,\n",
              "       9.54791828e-07, 9.54791828e-07, 9.54791828e-07, 9.54791828e-07,\n",
              "       9.54791828e-07, 9.54791828e-07, 9.54791828e-07, 9.54791828e-07,\n",
              "       9.54791828e-07, 9.54791828e-07, 9.54791828e-07, 9.54791828e-07,\n",
              "       9.54791828e-07, 9.54791828e-07, 9.54791828e-07, 9.54791828e-07,\n",
              "       9.54791828e-07, 9.54791828e-07, 9.54791828e-07, 9.54791828e-07,\n",
              "       9.54791828e-07, 9.54791828e-07, 9.54791828e-07, 9.54791828e-07,\n",
              "       9.54791828e-07, 9.54791828e-07, 9.54791828e-07, 9.54791828e-07,\n",
              "       9.54791828e-07, 9.54791828e-07, 9.54791828e-07, 9.54791828e-07,\n",
              "       9.54791828e-07, 9.54791828e-07, 9.54791828e-07, 9.54791828e-07,\n",
              "       9.54791828e-07, 9.54791828e-07, 9.54791828e-07, 9.54791828e-07,\n",
              "       9.54791828e-07, 9.54791828e-07, 9.54791828e-07, 9.54791828e-07,\n",
              "       9.54791828e-07, 9.54791828e-07, 9.54791828e-07, 9.54791828e-07,\n",
              "       9.54791828e-07, 9.54791828e-07, 9.54791828e-07, 9.54791828e-07,\n",
              "       9.54791828e-07, 9.54791828e-07, 9.54791828e-07, 9.54791828e-07,\n",
              "       9.54791828e-07, 9.54791828e-07, 9.54791828e-07, 9.54791828e-07,\n",
              "       9.54791828e-07, 9.54791828e-07, 9.54791828e-07, 9.54791828e-07,\n",
              "       9.54791828e-07, 9.54791828e-07, 9.54791828e-07, 9.54791828e-07,\n",
              "       9.54791828e-07, 9.54791828e-07, 9.54791828e-07, 9.54791828e-07,\n",
              "       9.54791828e-07, 9.54791828e-07, 9.54791828e-07, 9.54791828e-07,\n",
              "       9.54791828e-07, 9.54791828e-07, 9.54791828e-07, 9.54791828e-07,\n",
              "       9.54791828e-07, 9.54791828e-07, 9.54791828e-07, 9.54791828e-07,\n",
              "       9.54791828e-07, 9.54791828e-07, 9.54791828e-07, 9.54791828e-07,\n",
              "       3.92810848e-07, 3.92810848e-07, 3.92810848e-07, 3.92810848e-07,\n",
              "       3.92810848e-07, 3.92810848e-07, 3.92810848e-07, 3.92810848e-07,\n",
              "       3.92810848e-07, 3.92810848e-07, 3.92810848e-07, 3.92810848e-07,\n",
              "       3.92810848e-07, 3.92810848e-07, 3.92810848e-07, 3.92810848e-07,\n",
              "       3.92810848e-07, 3.92810848e-07, 3.92810848e-07, 3.92810848e-07,\n",
              "       3.92810848e-07, 3.92810848e-07, 3.92810848e-07, 3.92810848e-07,\n",
              "       3.92810848e-07, 3.92810848e-07, 3.92810848e-07, 3.92810848e-07,\n",
              "       3.92810848e-07, 3.92810848e-07, 3.92810848e-07, 3.92810848e-07,\n",
              "       3.92810848e-07, 3.92810848e-07, 3.92810848e-07, 3.92810848e-07,\n",
              "       3.92810848e-07, 3.92810848e-07, 3.92810848e-07, 3.92810848e-07,\n",
              "       3.92810848e-07, 3.92810848e-07, 3.92810848e-07, 3.92810848e-07,\n",
              "       3.92810848e-07, 3.92810848e-07, 3.92810848e-07, 3.92810848e-07,\n",
              "       3.92810848e-07, 3.92810848e-07, 3.92810848e-07, 3.92810848e-07,\n",
              "       3.92810848e-07, 3.92810848e-07, 3.92810848e-07, 3.92810848e-07,\n",
              "       3.92810848e-07, 3.92810848e-07, 3.92810848e-07, 3.92810848e-07,\n",
              "       3.92810848e-07, 3.92810848e-07, 3.92810848e-07, 3.92810848e-07,\n",
              "       3.92810848e-07, 3.92810848e-07, 3.92810848e-07, 3.92810848e-07,\n",
              "       3.92810848e-07, 3.92810848e-07, 3.92810848e-07, 3.92810848e-07,\n",
              "       3.92810848e-07, 3.92810848e-07, 3.92810848e-07, 3.92810848e-07,\n",
              "       3.92810848e-07, 3.92810848e-07, 3.92810848e-07, 3.92810848e-07,\n",
              "       3.92810848e-07, 3.92810848e-07, 3.92810848e-07, 3.92810848e-07,\n",
              "       3.92810848e-07, 3.92810848e-07, 3.92810848e-07, 3.92810848e-07,\n",
              "       3.92810848e-07, 3.92810848e-07, 3.92810848e-07, 3.92810848e-07,\n",
              "       3.92810848e-07, 3.92810848e-07, 3.92810848e-07, 3.92810848e-07,\n",
              "       3.92810848e-07, 3.92810848e-07, 2.14765045e-07, 2.14765045e-07,\n",
              "       2.14765045e-07, 2.14765045e-07, 2.14765045e-07, 2.14765045e-07,\n",
              "       2.14765045e-07, 2.14765045e-07, 2.14765045e-07, 2.14765045e-07,\n",
              "       2.14765045e-07, 2.14765045e-07, 2.14765045e-07, 2.14765045e-07,\n",
              "       2.14765045e-07, 2.14765045e-07, 2.14765045e-07, 2.14765045e-07,\n",
              "       2.14765045e-07, 2.14765045e-07, 2.14765045e-07, 2.14765045e-07,\n",
              "       2.14765045e-07, 2.14765045e-07, 2.14765045e-07, 2.14765045e-07,\n",
              "       2.14765045e-07, 2.14765045e-07, 2.14765045e-07, 2.14765045e-07,\n",
              "       2.14765045e-07, 2.14765045e-07, 2.14765045e-07, 2.14765045e-07,\n",
              "       2.14765045e-07, 2.14765045e-07, 2.14765045e-07, 2.14765045e-07,\n",
              "       2.14765045e-07, 2.14765045e-07, 2.14765045e-07, 2.14765045e-07,\n",
              "       2.14765045e-07, 2.14765045e-07, 2.14765045e-07, 2.14765045e-07,\n",
              "       2.14765045e-07, 2.14765045e-07, 2.14765045e-07, 2.14765045e-07,\n",
              "       2.14765045e-07, 2.14765045e-07, 2.14765045e-07, 2.14765045e-07,\n",
              "       2.14765045e-07, 2.14765045e-07, 2.14765045e-07, 2.14765045e-07,\n",
              "       2.14765045e-07, 2.14765045e-07, 2.14765045e-07, 2.14765045e-07,\n",
              "       2.14765045e-07, 2.14765045e-07, 2.14765045e-07, 2.14765045e-07,\n",
              "       2.14765045e-07, 2.14765045e-07, 2.14765045e-07, 2.14765045e-07,\n",
              "       2.14765045e-07, 2.14765045e-07, 2.14765045e-07, 2.14765045e-07,\n",
              "       2.14765045e-07, 2.14765045e-07, 2.14765045e-07, 2.14765045e-07,\n",
              "       2.14765045e-07, 2.14765045e-07, 2.14765045e-07, 2.14765045e-07,\n",
              "       2.14765045e-07, 2.14765045e-07, 2.14765045e-07, 2.14765045e-07,\n",
              "       2.14765045e-07, 2.14765045e-07, 2.14765045e-07, 2.14765045e-07,\n",
              "       2.14765045e-07, 2.14765045e-07, 2.14765045e-07, 2.14765045e-07,\n",
              "       2.14765045e-07, 2.14765045e-07, 2.14765045e-07, 2.14765045e-07,\n",
              "       1.98302778e-07, 1.98302778e-07, 1.98302778e-07, 1.98302778e-07,\n",
              "       1.98302778e-07, 1.98302778e-07, 1.98302778e-07, 1.98302778e-07,\n",
              "       1.98302778e-07, 1.98302778e-07, 1.98302778e-07, 1.98302778e-07,\n",
              "       1.98302778e-07, 1.98302778e-07, 1.98302778e-07, 1.98302778e-07,\n",
              "       1.98302778e-07, 1.98302778e-07, 1.98302778e-07, 1.98302778e-07,\n",
              "       1.98302778e-07, 1.98302778e-07, 1.98302778e-07, 1.98302778e-07,\n",
              "       1.98302778e-07, 1.98302778e-07, 1.98302778e-07, 1.98302778e-07,\n",
              "       1.98302778e-07, 1.98302778e-07, 1.98302778e-07, 1.98302778e-07,\n",
              "       1.98302778e-07, 1.98302778e-07, 1.98302778e-07, 1.98302778e-07,\n",
              "       1.98302778e-07, 1.98302778e-07, 1.98302778e-07, 1.98302778e-07,\n",
              "       1.98302778e-07, 1.98302778e-07, 1.98302778e-07, 1.98302778e-07,\n",
              "       1.98302778e-07, 1.98302778e-07, 1.98302778e-07, 1.98302778e-07,\n",
              "       1.98302778e-07, 1.98302778e-07, 1.98302778e-07, 1.98302778e-07,\n",
              "       1.98302778e-07, 1.98302778e-07, 1.98302778e-07, 1.98302778e-07,\n",
              "       1.98302778e-07, 1.98302778e-07, 1.98302778e-07, 1.98302778e-07,\n",
              "       1.98302778e-07, 1.98302778e-07, 1.98302778e-07, 1.98302778e-07,\n",
              "       1.98302778e-07, 1.98302778e-07, 1.98302778e-07, 1.98302778e-07,\n",
              "       1.98302778e-07, 1.98302778e-07, 1.98302778e-07, 1.98302778e-07,\n",
              "       1.98302778e-07, 1.98302778e-07, 1.98302778e-07, 1.98302778e-07,\n",
              "       1.98302778e-07, 1.98302778e-07, 1.98302778e-07, 1.98302778e-07,\n",
              "       1.98302778e-07, 1.98302778e-07, 1.98302778e-07, 1.98302778e-07,\n",
              "       1.98302778e-07, 1.98302778e-07, 1.98302778e-07, 1.98302778e-07,\n",
              "       1.98302778e-07, 1.98302778e-07, 1.98302778e-07, 1.98302778e-07,\n",
              "       1.98302778e-07, 1.98302778e-07, 1.98302778e-07, 1.98302778e-07,\n",
              "       1.98302778e-07, 1.98302778e-07])"
            ]
          },
          "metadata": {},
          "execution_count": 162
        }
      ]
    },
    {
      "cell_type": "code",
      "metadata": {
        "colab": {
          "base_uri": "https://localhost:8080/",
          "height": 314
        },
        "id": "PcpExGSnRa9t",
        "outputId": "7c70262d-d4cb-467e-e880-92c290e2ddea"
      },
      "source": [
        "import matplotlib.pyplot as plt\n",
        "plt.plot(historico_loss)\n",
        "plt.title('Progreção do erro')\n",
        "plt.xlabel('Épocas')\n",
        "plt.ylabel('Erro')"
      ],
      "execution_count": 163,
      "outputs": [
        {
          "output_type": "execute_result",
          "data": {
            "text/plain": [
              "Text(0, 0.5, 'Erro')"
            ]
          },
          "metadata": {},
          "execution_count": 163
        },
        {
          "output_type": "display_data",
          "data": {
            "image/png": "[encoded data removed]",
            "text/plain": [
              "<Figure size 432x288 with 1 Axes>"
            ]
          },
          "metadata": {
            "needs_background": "light"
          }
        }
      ]
    },
    {
      "cell_type": "code",
      "metadata": {
        "id": "mG57xV41R_hT"
      },
      "source": [
        "modelo.to_disk('modelo3')"
      ],
      "execution_count": 164,
      "outputs": []
    },
    {
      "cell_type": "markdown",
      "metadata": {
        "id": "GYLNYleLs8gs"
      },
      "source": [
        "## Testes com uma frase"
      ]
    },
    {
      "cell_type": "code",
      "metadata": {
        "id": "rNDhoZ3BSdHs"
      },
      "source": [
        "modelo_carregado = spacy.load('modelo3')"
      ],
      "execution_count": 165,
      "outputs": []
    },
    {
      "cell_type": "code",
      "metadata": {
        "colab": {
          "base_uri": "https://localhost:8080/",
          "height": 35
        },
        "id": "BO8PNSp9S1Rb",
        "outputId": "a3885953-7fb2-402b-e6ab-0db08f5bce69"
      },
      "source": [
        "texto_positivo = base_teste['tweet_text'][21]\n",
        "texto_positivo"
      ],
      "execution_count": 166,
      "outputs": [
        {
          "output_type": "execute_result",
          "data": {
            "application/vnd.google.colaboratory.intrinsic+json": {
              "type": "string"
            },
            "text/plain": [
              "'  ficar feliz q recíproco emocaopositiva'"
            ]
          },
          "metadata": {},
          "execution_count": 166
        }
      ]
    },
    {
      "cell_type": "code",
      "metadata": {
        "id": "NlLwVRx3TJzy"
      },
      "source": [
        "previsao = modelo_carregado(texto_positivo)"
      ],
      "execution_count": 167,
      "outputs": []
    },
    {
      "cell_type": "code",
      "metadata": {
        "colab": {
          "base_uri": "https://localhost:8080/"
        },
        "id": "uCcTO_ylTQ-n",
        "outputId": "c52edf6e-98fc-4867-946a-a00b2ccdb04a"
      },
      "source": [
        "previsao.cats"
      ],
      "execution_count": 168,
      "outputs": [
        {
          "output_type": "execute_result",
          "data": {
            "text/plain": [
              "{'NEGATIVO': 4.539786823443137e-05, 'POSITIVO': 0.9998680353164673}"
            ]
          },
          "metadata": {},
          "execution_count": 168
        }
      ]
    },
    {
      "cell_type": "code",
      "metadata": {
        "colab": {
          "base_uri": "https://localhost:8080/",
          "height": 35
        },
        "id": "TVQgzwIkTw2E",
        "outputId": "df33e78a-dc08-4d65-9300-3cfa62107e20"
      },
      "source": [
        "texto_positivo = 'eu gosto muito de vc'\n",
        "texto_positivo = preprocessamento(texto_positivo)\n",
        "texto_positivo"
      ],
      "execution_count": 169,
      "outputs": [
        {
          "output_type": "execute_result",
          "data": {
            "application/vnd.google.colaboratory.intrinsic+json": {
              "type": "string"
            },
            "text/plain": [
              "'gostar vc'"
            ]
          },
          "metadata": {},
          "execution_count": 169
        }
      ]
    },
    {
      "cell_type": "code",
      "metadata": {
        "colab": {
          "base_uri": "https://localhost:8080/"
        },
        "id": "wmJjZ-4woOTn",
        "outputId": "f1f71fee-fd56-4d7a-b309-a51c2dddedfe"
      },
      "source": [
        "modelo_carregado(texto_positivo).cats"
      ],
      "execution_count": 170,
      "outputs": [
        {
          "output_type": "execute_result",
          "data": {
            "text/plain": [
              "{'NEGATIVO': 0.08078965544700623, 'POSITIVO': 0.9702866077423096}"
            ]
          },
          "metadata": {},
          "execution_count": 170
        }
      ]
    },
    {
      "cell_type": "code",
      "metadata": {
        "colab": {
          "base_uri": "https://localhost:8080/",
          "height": 35
        },
        "id": "A8trDqQ-owrp",
        "outputId": "cb3d49b0-9ce0-49cd-dcba-5a9fe0adb619"
      },
      "source": [
        "base_teste['tweet_text'][4000]\n"
      ],
      "execution_count": 171,
      "outputs": [
        {
          "output_type": "execute_result",
          "data": {
            "application/vnd.google.colaboratory.intrinsic+json": {
              "type": "string"
            },
            "text/plain": [
              "'tô triste filmar mulan o mushu emocaonegativa'"
            ]
          },
          "metadata": {},
          "execution_count": 171
        }
      ]
    },
    {
      "cell_type": "code",
      "metadata": {
        "colab": {
          "base_uri": "https://localhost:8080/"
        },
        "id": "wzvfJ0p-pEZJ",
        "outputId": "133ffff8-502f-483d-9a04-fe074abff585"
      },
      "source": [
        "texto_negativo = base_teste['tweet_text'][4000]\n",
        "previsao = modelo_carregado(texto_negativo)\n",
        "previsao.cats"
      ],
      "execution_count": 172,
      "outputs": [
        {
          "output_type": "execute_result",
          "data": {
            "text/plain": [
              "{'NEGATIVO': 0.9997504353523254, 'POSITIVO': 0.0009970574174076319}"
            ]
          },
          "metadata": {},
          "execution_count": 172
        }
      ]
    },
    {
      "cell_type": "markdown",
      "metadata": {
        "id": "q-pO0iQBtLpE"
      },
      "source": [
        "## Avaliação na base de treinamento"
      ]
    },
    {
      "cell_type": "code",
      "metadata": {
        "id": "IAYAqBlhUd9s"
      },
      "source": [
        "previsoes = []\n",
        "for texto in base_teste['tweet_text']:\n",
        "  previsao = modelo_carregado(texto)\n",
        "  previsoes.append(previsao.cats)"
      ],
      "execution_count": 174,
      "outputs": []
    },
    {
      "cell_type": "code",
      "metadata": {
        "id": "xmSZYiEJU-4g"
      },
      "source": [
        "previsoes"
      ],
      "execution_count": null,
      "outputs": []
    },
    {
      "cell_type": "code",
      "metadata": {
        "id": "msnmddJqVQnI"
      },
      "source": [
        "previsoes_final = []\n",
        "for previsao in previsoes:\n",
        "  if previsao['POSITIVO'] > previsao['NEGATIVO']:\n",
        "    previsoes_final.append(1)\n",
        "  else:\n",
        "    previsoes_final.append(0)\n",
        "\n",
        "previsoes_final = np.array(previsoes_final)        \n"
      ],
      "execution_count": 176,
      "outputs": []
    },
    {
      "cell_type": "code",
      "metadata": {
        "id": "X_r6pwcwV7aq"
      },
      "source": [
        "respostas_reais = base_teste['sentiment'].values"
      ],
      "execution_count": 177,
      "outputs": []
    },
    {
      "cell_type": "code",
      "metadata": {
        "colab": {
          "base_uri": "https://localhost:8080/"
        },
        "id": "6ixPGspVWcv3",
        "outputId": "4f3120d1-be40-4a34-9810-f8e1bd166959"
      },
      "source": [
        "from sklearn.metrics import confusion_matrix, accuracy_score\n",
        "accuracy_score(respostas_reais, previsoes_final)"
      ],
      "execution_count": 178,
      "outputs": [
        {
          "output_type": "execute_result",
          "data": {
            "text/plain": [
              "0.9972"
            ]
          },
          "metadata": {},
          "execution_count": 178
        }
      ]
    },
    {
      "cell_type": "code",
      "metadata": {
        "colab": {
          "base_uri": "https://localhost:8080/"
        },
        "id": "VFnhol8bWwKv",
        "outputId": "96e7ebe3-a391-46fa-d386-2b0a5b13e418"
      },
      "source": [
        "cm = confusion_matrix(respostas_reais, previsoes_final)\n",
        "cm"
      ],
      "execution_count": 180,
      "outputs": [
        {
          "output_type": "execute_result",
          "data": {
            "text/plain": [
              "array([[2495,    5],\n",
              "       [   9, 2491]])"
            ]
          },
          "metadata": {},
          "execution_count": 180
        }
      ]
    },
    {
      "cell_type": "code",
      "metadata": {
        "colab": {
          "base_uri": "https://localhost:8080/",
          "height": 282
        },
        "id": "yOPsrtPvxWFn",
        "outputId": "9a7c92bc-a6c5-418a-8a79-14615c05ffd8"
      },
      "source": [
        "sns.heatmap(cm, annot=True)"
      ],
      "execution_count": 181,
      "outputs": [
        {
          "output_type": "execute_result",
          "data": {
            "text/plain": [
              "<matplotlib.axes._subplots.AxesSubplot at 0x7fd8dd8ca090>"
            ]
          },
          "metadata": {},
          "execution_count": 181
        },
        {
          "output_type": "display_data",
          "data": {
            "image/png": "[encoded data removed]",
            "text/plain": [
              "<Figure size 432x288 with 2 Axes>"
            ]
          },
          "metadata": {
            "needs_background": "light"
          }
        }
      ]
    },
    {
      "cell_type": "markdown",
      "metadata": {
        "id": "Eg0RI9zzxn47"
      },
      "source": [
        "## Teste de textos"
      ]
    },
    {
      "cell_type": "code",
      "metadata": {
        "colab": {
          "base_uri": "https://localhost:8080/"
        },
        "id": "_AKhqyXyxYY_",
        "outputId": "8b08c184-212a-474f-c88f-16931fc46bde"
      },
      "source": [
        "teste_texto = input('Escreva uma frase:')\n",
        "preprocessamento(teste_texto)\n",
        "texto_pessoa = teste_texto\n",
        "previsao = modelo_carregado(texto_pessoa)\n",
        "previsao2 = previsao.cats\n",
        "previsao2\n"
      ],
      "execution_count": 210,
      "outputs": [
        {
          "name": "stdout",
          "output_type": "stream",
          "text": [
            "Escreva uma frase:hoje vou na academia\n"
          ]
        },
        {
          "output_type": "execute_result",
          "data": {
            "text/plain": [
              "{'NEGATIVO': 0.9898221492767334, 'POSITIVO': 0.06294535845518112}"
            ]
          },
          "metadata": {},
          "execution_count": 210
        }
      ]
    }
  ]
}