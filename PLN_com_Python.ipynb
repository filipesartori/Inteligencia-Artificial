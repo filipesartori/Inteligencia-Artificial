{
  "nbformat": 4,
  "nbformat_minor": 0,
  "metadata": {
    "colab": {
      "name": "PLN com Python.ipynb",
      "provenance": [],
      "authorship_tag": "ABX9TyPERlYBvmRh/yHnp8Afr0vj",
      "include_colab_link": true
    },
    "kernelspec": {
      "name": "python3",
      "display_name": "Python 3"
    },
    "language_info": {
      "name": "python"
    }
  },
  "cells": [
    {
      "cell_type": "markdown",
      "metadata": {
        "id": "view-in-github",
        "colab_type": "text"
      },
      "source": [
        "<a href=\"https://colab.research.google.com/github/filipesartori/Inteligencia-Artificial/blob/main/PLN_com_Python.ipynb\" target=\"_parent\"><img src=\"https://colab.research.google.com/assets/colab-badge.svg\" alt=\"Open In Colab\"/></a>"
      ]
    },
    {
      "cell_type": "markdown",
      "metadata": {
        "id": "mrv71lm7R7vA"
      },
      "source": [
        "# PLN com Python"
      ]
    },
    {
      "cell_type": "markdown",
      "metadata": {
        "id": "aRldFMMMSCYf"
      },
      "source": [
        "## Bibliotecas"
      ]
    },
    {
      "cell_type": "code",
      "metadata": {
        "id": "ZBXEL7Fv3Sc1"
      },
      "source": [
        "import bs4 as bs\n",
        "import urllib.request\n",
        "import nltk\n",
        "import spacy"
      ],
      "execution_count": 1,
      "outputs": []
    },
    {
      "cell_type": "code",
      "metadata": {
        "colab": {
          "base_uri": "https://localhost:8080/"
        },
        "id": "xpMuyC4S3ns0",
        "outputId": "2f3b91f0-38ac-44dc-af0b-a2a4ccce2190"
      },
      "source": [
        "!python3 -m spacy download pt"
      ],
      "execution_count": 2,
      "outputs": [
        {
          "output_type": "stream",
          "name": "stdout",
          "text": [
            "Collecting pt_core_news_sm==2.2.5\n",
            "  Downloading https://github.com/explosion/spacy-models/releases/download/pt_core_news_sm-2.2.5/pt_core_news_sm-2.2.5.tar.gz (21.2 MB)\n",
            "\u001b[K     |████████████████████████████████| 21.2 MB 1.2 MB/s \n",
            "\u001b[?25hRequirement already satisfied: spacy>=2.2.2 in /usr/local/lib/python3.7/dist-packages (from pt_core_news_sm==2.2.5) (2.2.4)\n",
            "Requirement already satisfied: murmurhash<1.1.0,>=0.28.0 in /usr/local/lib/python3.7/dist-packages (from spacy>=2.2.2->pt_core_news_sm==2.2.5) (1.0.5)\n",
            "Requirement already satisfied: thinc==7.4.0 in /usr/local/lib/python3.7/dist-packages (from spacy>=2.2.2->pt_core_news_sm==2.2.5) (7.4.0)\n",
            "Requirement already satisfied: preshed<3.1.0,>=3.0.2 in /usr/local/lib/python3.7/dist-packages (from spacy>=2.2.2->pt_core_news_sm==2.2.5) (3.0.5)\n",
            "Requirement already satisfied: requests<3.0.0,>=2.13.0 in /usr/local/lib/python3.7/dist-packages (from spacy>=2.2.2->pt_core_news_sm==2.2.5) (2.23.0)\n",
            "Requirement already satisfied: srsly<1.1.0,>=1.0.2 in /usr/local/lib/python3.7/dist-packages (from spacy>=2.2.2->pt_core_news_sm==2.2.5) (1.0.5)\n",
            "Requirement already satisfied: cymem<2.1.0,>=2.0.2 in /usr/local/lib/python3.7/dist-packages (from spacy>=2.2.2->pt_core_news_sm==2.2.5) (2.0.5)\n",
            "Requirement already satisfied: setuptools in /usr/local/lib/python3.7/dist-packages (from spacy>=2.2.2->pt_core_news_sm==2.2.5) (57.4.0)\n",
            "Requirement already satisfied: numpy>=1.15.0 in /usr/local/lib/python3.7/dist-packages (from spacy>=2.2.2->pt_core_news_sm==2.2.5) (1.19.5)\n",
            "Requirement already satisfied: plac<1.2.0,>=0.9.6 in /usr/local/lib/python3.7/dist-packages (from spacy>=2.2.2->pt_core_news_sm==2.2.5) (1.1.3)\n",
            "Requirement already satisfied: catalogue<1.1.0,>=0.0.7 in /usr/local/lib/python3.7/dist-packages (from spacy>=2.2.2->pt_core_news_sm==2.2.5) (1.0.0)\n",
            "Requirement already satisfied: blis<0.5.0,>=0.4.0 in /usr/local/lib/python3.7/dist-packages (from spacy>=2.2.2->pt_core_news_sm==2.2.5) (0.4.1)\n",
            "Requirement already satisfied: wasabi<1.1.0,>=0.4.0 in /usr/local/lib/python3.7/dist-packages (from spacy>=2.2.2->pt_core_news_sm==2.2.5) (0.8.2)\n",
            "Requirement already satisfied: tqdm<5.0.0,>=4.38.0 in /usr/local/lib/python3.7/dist-packages (from spacy>=2.2.2->pt_core_news_sm==2.2.5) (4.62.3)\n",
            "Requirement already satisfied: importlib-metadata>=0.20 in /usr/local/lib/python3.7/dist-packages (from catalogue<1.1.0,>=0.0.7->spacy>=2.2.2->pt_core_news_sm==2.2.5) (4.8.1)\n",
            "Requirement already satisfied: zipp>=0.5 in /usr/local/lib/python3.7/dist-packages (from importlib-metadata>=0.20->catalogue<1.1.0,>=0.0.7->spacy>=2.2.2->pt_core_news_sm==2.2.5) (3.6.0)\n",
            "Requirement already satisfied: typing-extensions>=3.6.4 in /usr/local/lib/python3.7/dist-packages (from importlib-metadata>=0.20->catalogue<1.1.0,>=0.0.7->spacy>=2.2.2->pt_core_news_sm==2.2.5) (3.7.4.3)\n",
            "Requirement already satisfied: urllib3!=1.25.0,!=1.25.1,<1.26,>=1.21.1 in /usr/local/lib/python3.7/dist-packages (from requests<3.0.0,>=2.13.0->spacy>=2.2.2->pt_core_news_sm==2.2.5) (1.24.3)\n",
            "Requirement already satisfied: idna<3,>=2.5 in /usr/local/lib/python3.7/dist-packages (from requests<3.0.0,>=2.13.0->spacy>=2.2.2->pt_core_news_sm==2.2.5) (2.10)\n",
            "Requirement already satisfied: chardet<4,>=3.0.2 in /usr/local/lib/python3.7/dist-packages (from requests<3.0.0,>=2.13.0->spacy>=2.2.2->pt_core_news_sm==2.2.5) (3.0.4)\n",
            "Requirement already satisfied: certifi>=2017.4.17 in /usr/local/lib/python3.7/dist-packages (from requests<3.0.0,>=2.13.0->spacy>=2.2.2->pt_core_news_sm==2.2.5) (2021.5.30)\n",
            "Building wheels for collected packages: pt-core-news-sm\n",
            "  Building wheel for pt-core-news-sm (setup.py) ... \u001b[?25l\u001b[?25hdone\n",
            "  Created wheel for pt-core-news-sm: filename=pt_core_news_sm-2.2.5-py3-none-any.whl size=21186282 sha256=c0847108550456a7ec460e297727ddf10dfe8fe60a7606f2946a2627b9ae3afc\n",
            "  Stored in directory: /tmp/pip-ephem-wheel-cache-39ez3h7h/wheels/c3/f9/0c/5c014a36941a00f5df5fc0756cb961d7c457a978e697a6ce3b\n",
            "Successfully built pt-core-news-sm\n",
            "Installing collected packages: pt-core-news-sm\n",
            "Successfully installed pt-core-news-sm-2.2.5\n",
            "\u001b[38;5;2m✔ Download and installation successful\u001b[0m\n",
            "You can now load the model via spacy.load('pt_core_news_sm')\n",
            "\u001b[38;5;2m✔ Linking successful\u001b[0m\n",
            "/usr/local/lib/python3.7/dist-packages/pt_core_news_sm -->\n",
            "/usr/local/lib/python3.7/dist-packages/spacy/data/pt\n",
            "You can now load the model via spacy.load('pt')\n"
          ]
        }
      ]
    },
    {
      "cell_type": "markdown",
      "metadata": {
        "id": "5xEO05UVSLGh"
      },
      "source": [
        "## Marcação POS\n",
        "\n",
        "\n",
        "*   POS (part-of-speech) atribui para as palavras partes da fala, como substantivos, adjetivos, verbos\n",
        "*   Importante para a detecção de entidades no texto, pois primeiro é necessário saber o que o texto contém\n",
        "* Lista de tokens: https://spacy.io/api/annotation#pos-tagging\n",
        "* Português: https://www.sketchengine.eu/portuguese-freeling-part-of-speech-tagset/\n",
        "\n",
        "\n",
        "\n",
        "\n"
      ]
    },
    {
      "cell_type": "code",
      "metadata": {
        "id": "GE_cHs8T4EPj"
      },
      "source": [
        "pln = spacy.load('pt')"
      ],
      "execution_count": 3,
      "outputs": []
    },
    {
      "cell_type": "code",
      "metadata": {
        "id": "3ZIjwrgD4RuP"
      },
      "source": [
        "doc = pln('Estou indo e focado na academia, irei ficar enorme')"
      ],
      "execution_count": 4,
      "outputs": []
    },
    {
      "cell_type": "code",
      "metadata": {
        "colab": {
          "base_uri": "https://localhost:8080/"
        },
        "id": "JekW4UdF4hxj",
        "outputId": "e6d10aa3-1dd2-416a-e57c-a3da2df2453a"
      },
      "source": [
        "for token in doc:\n",
        "  print(token.text, token.pos_)"
      ],
      "execution_count": 5,
      "outputs": [
        {
          "output_type": "stream",
          "name": "stdout",
          "text": [
            "Estou AUX\n",
            "indo VERB\n",
            "e CCONJ\n",
            "focado VERB\n",
            "na PROPN\n",
            "academia PROPN\n",
            ", PUNCT\n",
            "irei PROPN\n",
            "ficar VERB\n",
            "enorme ADJ\n"
          ]
        }
      ]
    },
    {
      "cell_type": "markdown",
      "metadata": {
        "id": "DXyXsh67Sm-f"
      },
      "source": [
        "## Lematização e stemização"
      ]
    },
    {
      "cell_type": "code",
      "metadata": {
        "colab": {
          "base_uri": "https://localhost:8080/"
        },
        "id": "uLlLwIkh5iZJ",
        "outputId": "a547e448-e87a-44d6-9587-3022c9d48033"
      },
      "source": [
        "for token in doc:\n",
        "  print(token.text, token.lemma_)"
      ],
      "execution_count": 6,
      "outputs": [
        {
          "output_type": "stream",
          "name": "stdout",
          "text": [
            "Estou Estou\n",
            "indo ir\n",
            "e e\n",
            "focado focar\n",
            "na o\n",
            "academia academiar\n",
            ", ,\n",
            "irei irar\n",
            "ficar ficar\n",
            "enorme enorme\n"
          ]
        }
      ]
    },
    {
      "cell_type": "code",
      "metadata": {
        "colab": {
          "base_uri": "https://localhost:8080/"
        },
        "id": "jNVWgnNw6gkj",
        "outputId": "d1135ff6-01b2-4133-b71f-b2f5ada599a2"
      },
      "source": [
        "import nltk \n",
        "nltk.download('rslp')"
      ],
      "execution_count": 7,
      "outputs": [
        {
          "output_type": "stream",
          "name": "stdout",
          "text": [
            "[nltk_data] Downloading package rslp to /root/nltk_data...\n",
            "[nltk_data]   Unzipping stemmers/rslp.zip.\n"
          ]
        },
        {
          "output_type": "execute_result",
          "data": {
            "text/plain": [
              "True"
            ]
          },
          "metadata": {},
          "execution_count": 7
        }
      ]
    },
    {
      "cell_type": "code",
      "metadata": {
        "colab": {
          "base_uri": "https://localhost:8080/",
          "height": 35
        },
        "id": "JDgZyi806skX",
        "outputId": "66c0d701-dcc5-4f0c-f81e-1fd3a5011e6b"
      },
      "source": [
        "stemmer = nltk.stem.RSLPStemmer()\n",
        "stemmer.stem('conversar')"
      ],
      "execution_count": 8,
      "outputs": [
        {
          "output_type": "execute_result",
          "data": {
            "application/vnd.google.colaboratory.intrinsic+json": {
              "type": "string"
            },
            "text/plain": [
              "'convers'"
            ]
          },
          "metadata": {},
          "execution_count": 8
        }
      ]
    },
    {
      "cell_type": "code",
      "metadata": {
        "colab": {
          "base_uri": "https://localhost:8080/"
        },
        "id": "5kBXL2aJ7FMW",
        "outputId": "2481de97-328d-411d-cbcb-74310ea3bd08"
      },
      "source": [
        "for token in doc:\n",
        "  print(token.text, token.lemma_, stemmer.stem(token.text))"
      ],
      "execution_count": 9,
      "outputs": [
        {
          "output_type": "stream",
          "name": "stdout",
          "text": [
            "Estou Estou est\n",
            "indo ir ind\n",
            "e e e\n",
            "focado focar foc\n",
            "na o na\n",
            "academia academiar academ\n",
            ", , ,\n",
            "irei irar ire\n",
            "ficar ficar fic\n",
            "enorme enorme enorm\n"
          ]
        }
      ]
    },
    {
      "cell_type": "markdown",
      "metadata": {
        "id": "gvOX1wlaSuNI"
      },
      "source": [
        "## Texts loading"
      ]
    },
    {
      "cell_type": "code",
      "metadata": {
        "id": "DSUY25WO7nfc"
      },
      "source": [
        "dados = urllib.request.urlopen('https://www.bbc.com/portuguese/brasil-59190480')"
      ],
      "execution_count": 10,
      "outputs": []
    },
    {
      "cell_type": "code",
      "metadata": {
        "id": "PJX5WCQI8wKj"
      },
      "source": [
        "dados = dados.read()\n",
        "dados"
      ],
      "execution_count": null,
      "outputs": []
    },
    {
      "cell_type": "code",
      "metadata": {
        "id": "jWx4LTwv9IM1"
      },
      "source": [
        "dados_html = bs.BeautifulSoup(dados, 'lxml')\n",
        "dados_html"
      ],
      "execution_count": null,
      "outputs": []
    },
    {
      "cell_type": "code",
      "metadata": {
        "id": "d3G2PWoT_Ka9"
      },
      "source": [
        "paragrafo = dados_html.find_all('p')"
      ],
      "execution_count": 13,
      "outputs": []
    },
    {
      "cell_type": "code",
      "metadata": {
        "colab": {
          "base_uri": "https://localhost:8080/"
        },
        "id": "z6TiyN0R_UYD",
        "outputId": "93921a21-abd7-4da3-8b7f-70a3ded367d3"
      },
      "source": [
        "len(paragrafo)"
      ],
      "execution_count": 14,
      "outputs": [
        {
          "output_type": "execute_result",
          "data": {
            "text/plain": [
              "30"
            ]
          },
          "metadata": {},
          "execution_count": 14
        }
      ]
    },
    {
      "cell_type": "code",
      "metadata": {
        "id": "YP2D5nCy_Ynp"
      },
      "source": [
        "conteudo = ''\n",
        "for p in paragrafo:\n",
        "  conteudo += p.text"
      ],
      "execution_count": 15,
      "outputs": []
    },
    {
      "cell_type": "code",
      "metadata": {
        "colab": {
          "base_uri": "https://localhost:8080/",
          "height": 137
        },
        "id": "t0lmbZxI_1r3",
        "outputId": "23404048-e203-423c-d7a0-8de6a6817692"
      },
      "source": [
        "conteudo"
      ],
      "execution_count": 16,
      "outputs": [
        {
          "output_type": "execute_result",
          "data": {
            "application/vnd.google.colaboratory.intrinsic+json": {
              "type": "string"
            },
            "text/plain": [
              "'Crédito, DIVULGAÇÃOMarília Mendonça tinha 26 anos e era um dos maiores sucessos musicais do BrasilA morte da cantora sertaneja Marília Mendonça em um acidente de avião em Minas Gerais foi destaque na capa dos sites de alguns dos principais veículos de imprensa do mundo na sexta-feira e neste sábado, como Guardian, Washington Post, La Repubblica e Spiegel.O americano New York Times disse que \"suas legiões de fãs foram empoderadas pelas letras de suas canções, que imploravam às mulheres que rejeitassem relacionamentos ruins e abusivos, e contavam histórias de personagens imperfeitos.\"\"Mendonça foi uma sensação nas redes sociais, com 7,8 milhões de seguidores no Twitter, 22 milhões no YouTube e mais de 38 milhões no Instagram.\"O jornal destacou as manifestações de pesar do presidente Jair Bolsonaro e da cantora Anitta.E também lembrou uma reportagem de 2019 da NPR, a rede de rádios públicas dos Estados Unidos, que falava que \"alguns nos círculos cosmopolitas do Brasil desprezam as baladas country de Mendonça e as consideram \\'brega\\', ou \\'cafona\\'\".Fim do Talvez também te interesseNaquela reportagem, a NPR falava de Mendonça: \"Sentimental ou não, suas canções oferecem uma perspectiva feminina que não é muito ouvida na cultura machista do sertanejo, e isso faz de Mendonça a voz principal de um novo subgênero chamado \\'feminejo\\' — música por e para mulheres\".A NPR também destacou a morte da cantora neste sábado, com a manchete em seu site: \"Marília Mendonça, cantora brasileira e ganhadora do Grammy Latino, morre em acidente de avião\".A CNN destacou: \"A notícia da morte da carismática vencedora do Grammy Latino, conhecido como \\'A Patroa\\' por seus milhões de fãs, chocou o país na sexta-feira\".A notícia era uma das mais lidas na manhã deste sábado (6/11) no site em inglês de notícias da BBC. \"Vencedora do Grammy Latino em 2019, Mendonça ficou famosa por focar nas experiências das mulheres com relacionamentos fracassados\", escreve a BBC News.\"Um dos maiores nomes da música country brasileira conhecida como sertanejo, Mendonça começou sua carreira ainda adolescente, e se tornou uma estrela nacional em 2016 com um hit sobre infidelidade.\"\"Ela era conhecida como a \\'Rainha do Sofrimento\\' do país.\"A BBC News também destacou a popularidade da cantora na internet.\"No ano passado, como os shows foram cancelados por causa da pandemia, ela se apresentou em uma série de shows online. Um deles estabeleceu o recorde de transmissão ao vivo mais assistida do mundo, com 3,3 milhões de espectadores no YouTube. Em 2020, ela foi a artista mais ouvida no Brasil no Spotify.\"Crédito, EPAA cantora viajava em um avião bimotor modelo Kingair C90AA cantora Marília Mendonça, 26 anos, morreu na tarde de sexta-feira em um acidente de avião perto de uma cachoeira na serra da cidade de Piedade de Caratinga, no interior de Minas Gerais.Mais quatro pessoas que estavam na aeronave morreram, incluindo piloto e copiloto. Autora de diversos hits sertanejos, Marília estava em uma aeronave de pequeno porte, da fabricante Beechcraft, a caminho de shows que faria neste fim de semana. Uma das apresentações aconteceria na cidade de Caratinga, a poucos quilômetros de Piedade, na noite desta sexta-feira.Ela deixa um filho de 1 ano e 10 meses de idade. O velório deve acontecer neste sábado (6) de manhã, em Goiânia.A empresa que transportava a cantora de música sertaneja Marília Mendonça foi alvo de uma denúncia anônima seis meses antes do acidente.A denúncia dizia que a aeronave operada pela PEC Táxi Aéreo tinha problemas no sistema antiembaçamento do para-brisa que dificultariam os pousos e decolagens. Não há indícios de que a falha denunciada possa ter relação com a queda.O acidente trouxe à tona novamente a discussão sobre o índice de incidentes envolvendo a aviação particular no país. Aviões particulares — em geral, de menor porte, como o usado pelo cantora — estão envolvidos na maior parte dos acidentes de aviação no país.Já assistiu aos nossos novos vídeos no YouTube? Inscreva-se no nosso canal! A equipe da BBC News Brasil lê para você algumas de suas melhores reportagensEpisódios© 2021 BBC. A BBC não se responsabiliza pelo conteúdo de sites externos. Leia sobre nossa política em relação a links externos.'"
            ]
          },
          "metadata": {},
          "execution_count": 16
        }
      ]
    },
    {
      "cell_type": "code",
      "metadata": {
        "colab": {
          "base_uri": "https://localhost:8080/",
          "height": 137
        },
        "id": "_KFux9T_AEIM",
        "outputId": "71c2324b-1d11-4450-dabc-7979dadc7f61"
      },
      "source": [
        "conteudo = conteudo.lower()\n",
        "conteudo"
      ],
      "execution_count": 17,
      "outputs": [
        {
          "output_type": "execute_result",
          "data": {
            "application/vnd.google.colaboratory.intrinsic+json": {
              "type": "string"
            },
            "text/plain": [
              "'crédito, divulgaçãomarília mendonça tinha 26 anos e era um dos maiores sucessos musicais do brasila morte da cantora sertaneja marília mendonça em um acidente de avião em minas gerais foi destaque na capa dos sites de alguns dos principais veículos de imprensa do mundo na sexta-feira e neste sábado, como guardian, washington post, la repubblica e spiegel.o americano new york times disse que \"suas legiões de fãs foram empoderadas pelas letras de suas canções, que imploravam às mulheres que rejeitassem relacionamentos ruins e abusivos, e contavam histórias de personagens imperfeitos.\"\"mendonça foi uma sensação nas redes sociais, com 7,8 milhões de seguidores no twitter, 22 milhões no youtube e mais de 38 milhões no instagram.\"o jornal destacou as manifestações de pesar do presidente jair bolsonaro e da cantora anitta.e também lembrou uma reportagem de 2019 da npr, a rede de rádios públicas dos estados unidos, que falava que \"alguns nos círculos cosmopolitas do brasil desprezam as baladas country de mendonça e as consideram \\'brega\\', ou \\'cafona\\'\".fim do talvez também te interessenaquela reportagem, a npr falava de mendonça: \"sentimental ou não, suas canções oferecem uma perspectiva feminina que não é muito ouvida na cultura machista do sertanejo, e isso faz de mendonça a voz principal de um novo subgênero chamado \\'feminejo\\' — música por e para mulheres\".a npr também destacou a morte da cantora neste sábado, com a manchete em seu site: \"marília mendonça, cantora brasileira e ganhadora do grammy latino, morre em acidente de avião\".a cnn destacou: \"a notícia da morte da carismática vencedora do grammy latino, conhecido como \\'a patroa\\' por seus milhões de fãs, chocou o país na sexta-feira\".a notícia era uma das mais lidas na manhã deste sábado (6/11) no site em inglês de notícias da bbc. \"vencedora do grammy latino em 2019, mendonça ficou famosa por focar nas experiências das mulheres com relacionamentos fracassados\", escreve a bbc news.\"um dos maiores nomes da música country brasileira conhecida como sertanejo, mendonça começou sua carreira ainda adolescente, e se tornou uma estrela nacional em 2016 com um hit sobre infidelidade.\"\"ela era conhecida como a \\'rainha do sofrimento\\' do país.\"a bbc news também destacou a popularidade da cantora na internet.\"no ano passado, como os shows foram cancelados por causa da pandemia, ela se apresentou em uma série de shows online. um deles estabeleceu o recorde de transmissão ao vivo mais assistida do mundo, com 3,3 milhões de espectadores no youtube. em 2020, ela foi a artista mais ouvida no brasil no spotify.\"crédito, epaa cantora viajava em um avião bimotor modelo kingair c90aa cantora marília mendonça, 26 anos, morreu na tarde de sexta-feira em um acidente de avião perto de uma cachoeira na serra da cidade de piedade de caratinga, no interior de minas gerais.mais quatro pessoas que estavam na aeronave morreram, incluindo piloto e copiloto. autora de diversos hits sertanejos, marília estava em uma aeronave de pequeno porte, da fabricante beechcraft, a caminho de shows que faria neste fim de semana. uma das apresentações aconteceria na cidade de caratinga, a poucos quilômetros de piedade, na noite desta sexta-feira.ela deixa um filho de 1 ano e 10 meses de idade. o velório deve acontecer neste sábado (6) de manhã, em goiânia.a empresa que transportava a cantora de música sertaneja marília mendonça foi alvo de uma denúncia anônima seis meses antes do acidente.a denúncia dizia que a aeronave operada pela pec táxi aéreo tinha problemas no sistema antiembaçamento do para-brisa que dificultariam os pousos e decolagens. não há indícios de que a falha denunciada possa ter relação com a queda.o acidente trouxe à tona novamente a discussão sobre o índice de incidentes envolvendo a aviação particular no país. aviões particulares — em geral, de menor porte, como o usado pelo cantora — estão envolvidos na maior parte dos acidentes de aviação no país.já assistiu aos nossos novos vídeos no youtube? inscreva-se no nosso canal! a equipe da bbc news brasil lê para você algumas de suas melhores reportagensepisódios© 2021 bbc. a bbc não se responsabiliza pelo conteúdo de sites externos. leia sobre nossa política em relação a links externos.'"
            ]
          },
          "metadata": {},
          "execution_count": 17
        }
      ]
    },
    {
      "cell_type": "markdown",
      "metadata": {
        "id": "kdEDOnvSS0b9"
      },
      "source": [
        "## Busca com SpaCy"
      ]
    },
    {
      "cell_type": "code",
      "metadata": {
        "id": "fN3146LtRVf5"
      },
      "source": [
        "pln = spacy.load('pt')"
      ],
      "execution_count": 18,
      "outputs": []
    },
    {
      "cell_type": "code",
      "metadata": {
        "id": "yhlSdx7BRseB"
      },
      "source": [
        "string = 'música'\n",
        "token_pesquisa = pln(string)"
      ],
      "execution_count": 35,
      "outputs": []
    },
    {
      "cell_type": "code",
      "metadata": {
        "id": "f0KOYuNKSIlb"
      },
      "source": [
        "from spacy.matcher import PhraseMatcher\n",
        "matcher = PhraseMatcher(pln.vocab)\n",
        "matcher.add('SEARCH', None, token_pesquisa)"
      ],
      "execution_count": 36,
      "outputs": []
    },
    {
      "cell_type": "code",
      "metadata": {
        "colab": {
          "base_uri": "https://localhost:8080/"
        },
        "id": "br_brlixSmZv",
        "outputId": "2b52ee2f-0259-49be-c490-9bf1fdbc98f3"
      },
      "source": [
        "doc2 = pln(conteudo)\n",
        "matches = matcher(doc2)\n",
        "matches"
      ],
      "execution_count": 37,
      "outputs": [
        {
          "output_type": "execute_result",
          "data": {
            "text/plain": [
              "[(8661325627334373315, 239, 240),\n",
              " (8661325627334373315, 366, 367),\n",
              " (8661325627334373315, 625, 626)]"
            ]
          },
          "metadata": {},
          "execution_count": 37
        }
      ]
    },
    {
      "cell_type": "code",
      "metadata": {
        "colab": {
          "base_uri": "https://localhost:8080/"
        },
        "id": "Xh3Ncj4STiIp",
        "outputId": "fa777637-eb66-4fb2-99cb-7f08dca1aa0c"
      },
      "source": [
        "doc2[239:240], doc2[239-5:240+5]"
      ],
      "execution_count": 42,
      "outputs": [
        {
          "output_type": "execute_result",
          "data": {
            "text/plain": [
              "(música, chamado 'feminejo' — música por e para mulheres\".a npr)"
            ]
          },
          "metadata": {},
          "execution_count": 42
        }
      ]
    },
    {
      "cell_type": "code",
      "metadata": {
        "colab": {
          "base_uri": "https://localhost:8080/"
        },
        "id": "Mv7X2cYvT2Mk",
        "outputId": "7d891c07-0282-4882-eecb-f5bdb4983db9"
      },
      "source": [
        "doc2[366:367], doc2[366-5:367+5]"
      ],
      "execution_count": 43,
      "outputs": [
        {
          "output_type": "execute_result",
          "data": {
            "text/plain": [
              "(música,\n",
              " \"um dos maiores nomes da música country brasileira conhecida como sertanejo)"
            ]
          },
          "metadata": {},
          "execution_count": 43
        }
      ]
    },
    {
      "cell_type": "code",
      "metadata": {
        "colab": {
          "base_uri": "https://localhost:8080/"
        },
        "id": "ASu1OUn5UXnh",
        "outputId": "b3c14fd5-189e-40f8-a20e-7c01cbbc7c25"
      },
      "source": [
        "doc2[625:626], doc2[625-5:626+5]"
      ],
      "execution_count": 44,
      "outputs": [
        {
          "output_type": "execute_result",
          "data": {
            "text/plain": [
              "(música,\n",
              " que transportava a cantora de música sertaneja marília mendonça foi alvo)"
            ]
          },
          "metadata": {},
          "execution_count": 44
        }
      ]
    },
    {
      "cell_type": "code",
      "metadata": {
        "colab": {
          "base_uri": "https://localhost:8080/",
          "height": 371
        },
        "id": "Xh0IEpXNU1WS",
        "outputId": "8301d31b-5a06-4a45-fd59-407890b87883"
      },
      "source": [
        "from IPython.core.display import HTML\n",
        "texto = ''\n",
        "numero_palavras = 50\n",
        "doc = pln(conteudo)\n",
        "matches = matcher(doc)\n",
        "\n",
        "display(HTML(f'<h1>{string.upper()}</h1>'))\n",
        "display(HTML(f\"\"\"<p><strong>Resultados encontrados:</strong> {len(matches)}</p>\"\"\"))\n",
        "for i in matches:\n",
        "  inicio = i[1] - numero_palavras\n",
        "  if inicio < 0:\n",
        "    inicio = 0\n",
        "  texto += str(doc[inicio:i[2]+ numero_palavras]).replace(string, f\"<mark>{string}</mark>\")\n",
        "  texto += \"<br /><br />\"  \n",
        "display(HTML(f\"\"\"... {texto} ... \"\"\"))  "
      ],
      "execution_count": 51,
      "outputs": [
        {
          "output_type": "display_data",
          "data": {
            "text/html": [
              "<h1>MÚSICA</h1>"
            ],
            "text/plain": [
              "<IPython.core.display.HTML object>"
            ]
          },
          "metadata": {}
        },
        {
          "output_type": "display_data",
          "data": {
            "text/html": [
              "<p><strong>Resultados encontrados:</strong> 3</p>"
            ],
            "text/plain": [
              "<IPython.core.display.HTML object>"
            ]
          },
          "metadata": {}
        },
        {
          "output_type": "display_data",
          "data": {
            "text/html": [
              "... também te interessenaquela reportagem, a npr falava de mendonça: \"sentimental ou não, suas canções oferecem uma perspectiva feminina que não é muito ouvida na cultura machista do sertanejo, e isso faz de mendonça a voz principal de um novo subgênero chamado 'feminejo' — <mark>música</mark> por e para mulheres\".a npr também destacou a morte da cantora neste sábado, com a manchete em seu site: \"marília mendonça, cantora brasileira e ganhadora do grammy latino, morre em acidente de avião\".a cnn destacou: \"a notícia da morte da carismática vencedora<br /><br />lidas na manhã deste sábado (6/11) no site em inglês de notícias da bbc. \"vencedora do grammy latino em 2019, mendonça ficou famosa por focar nas experiências das mulheres com relacionamentos fracassados\", escreve a bbc news.\"um dos maiores nomes da <mark>música</mark> country brasileira conhecida como sertanejo, mendonça começou sua carreira ainda adolescente, e se tornou uma estrela nacional em 2016 com um hit sobre infidelidade.\"\"ela era conhecida como a 'rainha do sofrimento' do país.\"a bbc news também destacou a popularidade da cantora na<br /><br />aconteceria na cidade de caratinga, a poucos quilômetros de piedade, na noite desta sexta-feira.ela deixa um filho de 1 ano e 10 meses de idade. o velório deve acontecer neste sábado (6) de manhã, em goiânia.a empresa que transportava a cantora de <mark>música</mark> sertaneja marília mendonça foi alvo de uma denúncia anônima seis meses antes do acidente.a denúncia dizia que a aeronave operada pela pec táxi aéreo tinha problemas no sistema antiembaçamento do para-brisa que dificultariam os pousos e decolagens. não há indícios de que a falha denunciada possa ter relação com<br /><br /> ... "
            ],
            "text/plain": [
              "<IPython.core.display.HTML object>"
            ]
          },
          "metadata": {}
        }
      ]
    },
    {
      "cell_type": "markdown",
      "metadata": {
        "id": "AhJdCGOHS8nV"
      },
      "source": [
        "## Extração de entidades nomeadas\n",
        "\n",
        "- NER (Named-Entity Recognition)\n",
        "- Encontrar e classificar entidades no texto, dependendo da base de dados que foi utilizada para o treinamento (pessoa, localização, empresa, numéricos)\n",
        "- Usado em chatbots para saber o assunto falado\n",
        "- Siglas: https://spacy.io/api/annotation#named-entities"
      ]
    },
    {
      "cell_type": "code",
      "metadata": {
        "colab": {
          "base_uri": "https://localhost:8080/"
        },
        "id": "sr1dJWpOheSC",
        "outputId": "a9f8a4e9-301c-47a3-d11b-4ce10e274a31"
      },
      "source": [
        "for entidade in doc.ents:\n",
        "  print(entidade.text, entidade.label_)"
      ],
      "execution_count": 52,
      "outputs": [
        {
          "output_type": "stream",
          "name": "stdout",
          "text": [
            "divulgaçãomarília mendonça PER\n",
            "sertaneja marília ORG\n",
            "minas gerais LOC\n",
            "guardian PER\n",
            "washington post PER\n",
            "la repubblica ORG\n",
            "spiegel.o americano new york times ORG\n",
            "twitter MISC\n",
            "youtube MISC\n",
            "jair bolsonaro PER\n",
            "npr ORG\n",
            "estados unidos LOC\n",
            "brasil LOC\n",
            "npr ORG\n",
            "mulheres\".a npr MISC\n",
            "marília mendonça PER\n",
            "grammy MISC\n",
            "avião\".a cnn MISC\n",
            "sexta-feira\".a LOC\n",
            "bbc ORG\n",
            "grammy MISC\n",
            "mendonça PER\n",
            "bbc news ORG\n",
            "mendonça PER\n",
            "bbc news ORG\n",
            "internet MISC\n",
            "youtube MISC\n",
            "brasil LOC\n",
            "marília mendonça PER\n",
            "piedade de caratinga LOC\n",
            "marília LOC\n",
            "beechcraft PER\n",
            "caratinga LOC\n",
            "piedade LOC\n",
            "sertaneja marília mendonça ORG\n",
            "pec ORG\n",
            "— PER\n",
            "bbc news ORG\n",
            "bbc ORG\n",
            "bbc ORG\n",
            "leia PER\n"
          ]
        }
      ]
    },
    {
      "cell_type": "code",
      "metadata": {
        "colab": {
          "base_uri": "https://localhost:8080/",
          "height": 962
        },
        "id": "A1XQzZcLiAS3",
        "outputId": "0ce62d8c-04c2-41cc-93f1-2ee744feb8c3"
      },
      "source": [
        "from spacy import displacy\n",
        "displacy.render(doc, style = 'ent', jupyter = True)"
      ],
      "execution_count": 53,
      "outputs": [
        {
          "output_type": "display_data",
          "data": {
            "text/html": [
              "<span class=\"tex2jax_ignore\"><div class=\"entities\" style=\"line-height: 2.5; direction: ltr\">crédito, \n",
              "<mark class=\"entity\" style=\"background: #ddd; padding: 0.45em 0.6em; margin: 0 0.25em; line-height: 1; border-radius: 0.35em;\">\n",
              "    divulgaçãomarília mendonça\n",
              "    <span style=\"font-size: 0.8em; font-weight: bold; line-height: 1; border-radius: 0.35em; text-transform: uppercase; vertical-align: middle; margin-left: 0.5rem\">PER</span>\n",
              "</mark>\n",
              " tinha 26 anos e era um dos maiores sucessos musicais do brasila morte da cantora \n",
              "<mark class=\"entity\" style=\"background: #7aecec; padding: 0.45em 0.6em; margin: 0 0.25em; line-height: 1; border-radius: 0.35em;\">\n",
              "    sertaneja marília\n",
              "    <span style=\"font-size: 0.8em; font-weight: bold; line-height: 1; border-radius: 0.35em; text-transform: uppercase; vertical-align: middle; margin-left: 0.5rem\">ORG</span>\n",
              "</mark>\n",
              " mendonça em um acidente de avião em \n",
              "<mark class=\"entity\" style=\"background: #ff9561; padding: 0.45em 0.6em; margin: 0 0.25em; line-height: 1; border-radius: 0.35em;\">\n",
              "    minas gerais\n",
              "    <span style=\"font-size: 0.8em; font-weight: bold; line-height: 1; border-radius: 0.35em; text-transform: uppercase; vertical-align: middle; margin-left: 0.5rem\">LOC</span>\n",
              "</mark>\n",
              " foi destaque na capa dos sites de alguns dos principais veículos de imprensa do mundo na sexta-feira e neste sábado, como \n",
              "<mark class=\"entity\" style=\"background: #ddd; padding: 0.45em 0.6em; margin: 0 0.25em; line-height: 1; border-radius: 0.35em;\">\n",
              "    guardian\n",
              "    <span style=\"font-size: 0.8em; font-weight: bold; line-height: 1; border-radius: 0.35em; text-transform: uppercase; vertical-align: middle; margin-left: 0.5rem\">PER</span>\n",
              "</mark>\n",
              ", \n",
              "<mark class=\"entity\" style=\"background: #ddd; padding: 0.45em 0.6em; margin: 0 0.25em; line-height: 1; border-radius: 0.35em;\">\n",
              "    washington post\n",
              "    <span style=\"font-size: 0.8em; font-weight: bold; line-height: 1; border-radius: 0.35em; text-transform: uppercase; vertical-align: middle; margin-left: 0.5rem\">PER</span>\n",
              "</mark>\n",
              ", \n",
              "<mark class=\"entity\" style=\"background: #7aecec; padding: 0.45em 0.6em; margin: 0 0.25em; line-height: 1; border-radius: 0.35em;\">\n",
              "    la repubblica\n",
              "    <span style=\"font-size: 0.8em; font-weight: bold; line-height: 1; border-radius: 0.35em; text-transform: uppercase; vertical-align: middle; margin-left: 0.5rem\">ORG</span>\n",
              "</mark>\n",
              " e \n",
              "<mark class=\"entity\" style=\"background: #7aecec; padding: 0.45em 0.6em; margin: 0 0.25em; line-height: 1; border-radius: 0.35em;\">\n",
              "    spiegel.o americano new york times\n",
              "    <span style=\"font-size: 0.8em; font-weight: bold; line-height: 1; border-radius: 0.35em; text-transform: uppercase; vertical-align: middle; margin-left: 0.5rem\">ORG</span>\n",
              "</mark>\n",
              " disse que &quot;suas legiões de fãs foram empoderadas pelas letras de suas canções, que imploravam às mulheres que rejeitassem relacionamentos ruins e abusivos, e contavam histórias de personagens imperfeitos.&quot;&quot;mendonça foi uma sensação nas redes sociais, com 7,8 milhões de seguidores no \n",
              "<mark class=\"entity\" style=\"background: #ddd; padding: 0.45em 0.6em; margin: 0 0.25em; line-height: 1; border-radius: 0.35em;\">\n",
              "    twitter\n",
              "    <span style=\"font-size: 0.8em; font-weight: bold; line-height: 1; border-radius: 0.35em; text-transform: uppercase; vertical-align: middle; margin-left: 0.5rem\">MISC</span>\n",
              "</mark>\n",
              ", 22 milhões no \n",
              "<mark class=\"entity\" style=\"background: #ddd; padding: 0.45em 0.6em; margin: 0 0.25em; line-height: 1; border-radius: 0.35em;\">\n",
              "    youtube\n",
              "    <span style=\"font-size: 0.8em; font-weight: bold; line-height: 1; border-radius: 0.35em; text-transform: uppercase; vertical-align: middle; margin-left: 0.5rem\">MISC</span>\n",
              "</mark>\n",
              " e mais de 38 milhões no instagram.&quot;o jornal destacou as manifestações de pesar do presidente \n",
              "<mark class=\"entity\" style=\"background: #ddd; padding: 0.45em 0.6em; margin: 0 0.25em; line-height: 1; border-radius: 0.35em;\">\n",
              "    jair bolsonaro\n",
              "    <span style=\"font-size: 0.8em; font-weight: bold; line-height: 1; border-radius: 0.35em; text-transform: uppercase; vertical-align: middle; margin-left: 0.5rem\">PER</span>\n",
              "</mark>\n",
              " e da cantora anitta.e também lembrou uma reportagem de 2019 da \n",
              "<mark class=\"entity\" style=\"background: #7aecec; padding: 0.45em 0.6em; margin: 0 0.25em; line-height: 1; border-radius: 0.35em;\">\n",
              "    npr\n",
              "    <span style=\"font-size: 0.8em; font-weight: bold; line-height: 1; border-radius: 0.35em; text-transform: uppercase; vertical-align: middle; margin-left: 0.5rem\">ORG</span>\n",
              "</mark>\n",
              ", a rede de rádios públicas dos \n",
              "<mark class=\"entity\" style=\"background: #ff9561; padding: 0.45em 0.6em; margin: 0 0.25em; line-height: 1; border-radius: 0.35em;\">\n",
              "    estados unidos\n",
              "    <span style=\"font-size: 0.8em; font-weight: bold; line-height: 1; border-radius: 0.35em; text-transform: uppercase; vertical-align: middle; margin-left: 0.5rem\">LOC</span>\n",
              "</mark>\n",
              ", que falava que &quot;alguns nos círculos cosmopolitas do \n",
              "<mark class=\"entity\" style=\"background: #ff9561; padding: 0.45em 0.6em; margin: 0 0.25em; line-height: 1; border-radius: 0.35em;\">\n",
              "    brasil\n",
              "    <span style=\"font-size: 0.8em; font-weight: bold; line-height: 1; border-radius: 0.35em; text-transform: uppercase; vertical-align: middle; margin-left: 0.5rem\">LOC</span>\n",
              "</mark>\n",
              " desprezam as baladas country de mendonça e as consideram 'brega', ou 'cafona'&quot;.fim do talvez também te interessenaquela reportagem, a \n",
              "<mark class=\"entity\" style=\"background: #7aecec; padding: 0.45em 0.6em; margin: 0 0.25em; line-height: 1; border-radius: 0.35em;\">\n",
              "    npr\n",
              "    <span style=\"font-size: 0.8em; font-weight: bold; line-height: 1; border-radius: 0.35em; text-transform: uppercase; vertical-align: middle; margin-left: 0.5rem\">ORG</span>\n",
              "</mark>\n",
              " falava de mendonça: &quot;sentimental ou não, suas canções oferecem uma perspectiva feminina que não é muito ouvida na cultura machista do sertanejo, e isso faz de mendonça a voz principal de um novo subgênero chamado 'feminejo' — música por e para \n",
              "<mark class=\"entity\" style=\"background: #ddd; padding: 0.45em 0.6em; margin: 0 0.25em; line-height: 1; border-radius: 0.35em;\">\n",
              "    mulheres&quot;.a npr\n",
              "    <span style=\"font-size: 0.8em; font-weight: bold; line-height: 1; border-radius: 0.35em; text-transform: uppercase; vertical-align: middle; margin-left: 0.5rem\">MISC</span>\n",
              "</mark>\n",
              " também destacou a morte da cantora neste sábado, com a manchete em seu site: &quot;\n",
              "<mark class=\"entity\" style=\"background: #ddd; padding: 0.45em 0.6em; margin: 0 0.25em; line-height: 1; border-radius: 0.35em;\">\n",
              "    marília mendonça\n",
              "    <span style=\"font-size: 0.8em; font-weight: bold; line-height: 1; border-radius: 0.35em; text-transform: uppercase; vertical-align: middle; margin-left: 0.5rem\">PER</span>\n",
              "</mark>\n",
              ", cantora brasileira e ganhadora do \n",
              "<mark class=\"entity\" style=\"background: #ddd; padding: 0.45em 0.6em; margin: 0 0.25em; line-height: 1; border-radius: 0.35em;\">\n",
              "    grammy\n",
              "    <span style=\"font-size: 0.8em; font-weight: bold; line-height: 1; border-radius: 0.35em; text-transform: uppercase; vertical-align: middle; margin-left: 0.5rem\">MISC</span>\n",
              "</mark>\n",
              " latino, morre em acidente de \n",
              "<mark class=\"entity\" style=\"background: #ddd; padding: 0.45em 0.6em; margin: 0 0.25em; line-height: 1; border-radius: 0.35em;\">\n",
              "    avião&quot;.a cnn\n",
              "    <span style=\"font-size: 0.8em; font-weight: bold; line-height: 1; border-radius: 0.35em; text-transform: uppercase; vertical-align: middle; margin-left: 0.5rem\">MISC</span>\n",
              "</mark>\n",
              " destacou: &quot;a notícia da morte da carismática vencedora do grammy latino, conhecido como 'a patroa' por seus milhões de fãs, chocou o país na \n",
              "<mark class=\"entity\" style=\"background: #ff9561; padding: 0.45em 0.6em; margin: 0 0.25em; line-height: 1; border-radius: 0.35em;\">\n",
              "    sexta-feira&quot;.a\n",
              "    <span style=\"font-size: 0.8em; font-weight: bold; line-height: 1; border-radius: 0.35em; text-transform: uppercase; vertical-align: middle; margin-left: 0.5rem\">LOC</span>\n",
              "</mark>\n",
              " notícia era uma das mais lidas na manhã deste sábado (6/11) no site em inglês de notícias da \n",
              "<mark class=\"entity\" style=\"background: #7aecec; padding: 0.45em 0.6em; margin: 0 0.25em; line-height: 1; border-radius: 0.35em;\">\n",
              "    bbc\n",
              "    <span style=\"font-size: 0.8em; font-weight: bold; line-height: 1; border-radius: 0.35em; text-transform: uppercase; vertical-align: middle; margin-left: 0.5rem\">ORG</span>\n",
              "</mark>\n",
              ". &quot;vencedora do \n",
              "<mark class=\"entity\" style=\"background: #ddd; padding: 0.45em 0.6em; margin: 0 0.25em; line-height: 1; border-radius: 0.35em;\">\n",
              "    grammy\n",
              "    <span style=\"font-size: 0.8em; font-weight: bold; line-height: 1; border-radius: 0.35em; text-transform: uppercase; vertical-align: middle; margin-left: 0.5rem\">MISC</span>\n",
              "</mark>\n",
              " latino em 2019, \n",
              "<mark class=\"entity\" style=\"background: #ddd; padding: 0.45em 0.6em; margin: 0 0.25em; line-height: 1; border-radius: 0.35em;\">\n",
              "    mendonça\n",
              "    <span style=\"font-size: 0.8em; font-weight: bold; line-height: 1; border-radius: 0.35em; text-transform: uppercase; vertical-align: middle; margin-left: 0.5rem\">PER</span>\n",
              "</mark>\n",
              " ficou famosa por focar nas experiências das mulheres com relacionamentos fracassados&quot;, escreve a \n",
              "<mark class=\"entity\" style=\"background: #7aecec; padding: 0.45em 0.6em; margin: 0 0.25em; line-height: 1; border-radius: 0.35em;\">\n",
              "    bbc news\n",
              "    <span style=\"font-size: 0.8em; font-weight: bold; line-height: 1; border-radius: 0.35em; text-transform: uppercase; vertical-align: middle; margin-left: 0.5rem\">ORG</span>\n",
              "</mark>\n",
              ".&quot;um dos maiores nomes da música country brasileira conhecida como sertanejo, \n",
              "<mark class=\"entity\" style=\"background: #ddd; padding: 0.45em 0.6em; margin: 0 0.25em; line-height: 1; border-radius: 0.35em;\">\n",
              "    mendonça\n",
              "    <span style=\"font-size: 0.8em; font-weight: bold; line-height: 1; border-radius: 0.35em; text-transform: uppercase; vertical-align: middle; margin-left: 0.5rem\">PER</span>\n",
              "</mark>\n",
              " começou sua carreira ainda adolescente, e se tornou uma estrela nacional em 2016 com um hit sobre infidelidade.&quot;&quot;ela era conhecida como a 'rainha do sofrimento' do país.&quot;a \n",
              "<mark class=\"entity\" style=\"background: #7aecec; padding: 0.45em 0.6em; margin: 0 0.25em; line-height: 1; border-radius: 0.35em;\">\n",
              "    bbc news\n",
              "    <span style=\"font-size: 0.8em; font-weight: bold; line-height: 1; border-radius: 0.35em; text-transform: uppercase; vertical-align: middle; margin-left: 0.5rem\">ORG</span>\n",
              "</mark>\n",
              " também destacou a popularidade da cantora na \n",
              "<mark class=\"entity\" style=\"background: #ddd; padding: 0.45em 0.6em; margin: 0 0.25em; line-height: 1; border-radius: 0.35em;\">\n",
              "    internet\n",
              "    <span style=\"font-size: 0.8em; font-weight: bold; line-height: 1; border-radius: 0.35em; text-transform: uppercase; vertical-align: middle; margin-left: 0.5rem\">MISC</span>\n",
              "</mark>\n",
              ".&quot;no ano passado, como os shows foram cancelados por causa da pandemia, ela se apresentou em uma série de shows online. um deles estabeleceu o recorde de transmissão ao vivo mais assistida do mundo, com 3,3 milhões de espectadores no \n",
              "<mark class=\"entity\" style=\"background: #ddd; padding: 0.45em 0.6em; margin: 0 0.25em; line-height: 1; border-radius: 0.35em;\">\n",
              "    youtube\n",
              "    <span style=\"font-size: 0.8em; font-weight: bold; line-height: 1; border-radius: 0.35em; text-transform: uppercase; vertical-align: middle; margin-left: 0.5rem\">MISC</span>\n",
              "</mark>\n",
              ". em 2020, ela foi a artista mais ouvida no \n",
              "<mark class=\"entity\" style=\"background: #ff9561; padding: 0.45em 0.6em; margin: 0 0.25em; line-height: 1; border-radius: 0.35em;\">\n",
              "    brasil\n",
              "    <span style=\"font-size: 0.8em; font-weight: bold; line-height: 1; border-radius: 0.35em; text-transform: uppercase; vertical-align: middle; margin-left: 0.5rem\">LOC</span>\n",
              "</mark>\n",
              " no spotify.&quot;crédito, epaa cantora viajava em um avião bimotor modelo kingair c90aa cantora \n",
              "<mark class=\"entity\" style=\"background: #ddd; padding: 0.45em 0.6em; margin: 0 0.25em; line-height: 1; border-radius: 0.35em;\">\n",
              "    marília mendonça\n",
              "    <span style=\"font-size: 0.8em; font-weight: bold; line-height: 1; border-radius: 0.35em; text-transform: uppercase; vertical-align: middle; margin-left: 0.5rem\">PER</span>\n",
              "</mark>\n",
              ", 26 anos, morreu na tarde de sexta-feira em um acidente de avião perto de uma cachoeira na serra da cidade de \n",
              "<mark class=\"entity\" style=\"background: #ff9561; padding: 0.45em 0.6em; margin: 0 0.25em; line-height: 1; border-radius: 0.35em;\">\n",
              "    piedade de caratinga\n",
              "    <span style=\"font-size: 0.8em; font-weight: bold; line-height: 1; border-radius: 0.35em; text-transform: uppercase; vertical-align: middle; margin-left: 0.5rem\">LOC</span>\n",
              "</mark>\n",
              ", no interior de minas gerais.mais quatro pessoas que estavam na aeronave morreram, incluindo piloto e copiloto. autora de diversos hits sertanejos, \n",
              "<mark class=\"entity\" style=\"background: #ff9561; padding: 0.45em 0.6em; margin: 0 0.25em; line-height: 1; border-radius: 0.35em;\">\n",
              "    marília\n",
              "    <span style=\"font-size: 0.8em; font-weight: bold; line-height: 1; border-radius: 0.35em; text-transform: uppercase; vertical-align: middle; margin-left: 0.5rem\">LOC</span>\n",
              "</mark>\n",
              " estava em uma aeronave de pequeno porte, da fabricante \n",
              "<mark class=\"entity\" style=\"background: #ddd; padding: 0.45em 0.6em; margin: 0 0.25em; line-height: 1; border-radius: 0.35em;\">\n",
              "    beechcraft\n",
              "    <span style=\"font-size: 0.8em; font-weight: bold; line-height: 1; border-radius: 0.35em; text-transform: uppercase; vertical-align: middle; margin-left: 0.5rem\">PER</span>\n",
              "</mark>\n",
              ", a caminho de shows que faria neste fim de semana. uma das apresentações aconteceria na cidade de \n",
              "<mark class=\"entity\" style=\"background: #ff9561; padding: 0.45em 0.6em; margin: 0 0.25em; line-height: 1; border-radius: 0.35em;\">\n",
              "    caratinga\n",
              "    <span style=\"font-size: 0.8em; font-weight: bold; line-height: 1; border-radius: 0.35em; text-transform: uppercase; vertical-align: middle; margin-left: 0.5rem\">LOC</span>\n",
              "</mark>\n",
              ", a poucos quilômetros de \n",
              "<mark class=\"entity\" style=\"background: #ff9561; padding: 0.45em 0.6em; margin: 0 0.25em; line-height: 1; border-radius: 0.35em;\">\n",
              "    piedade\n",
              "    <span style=\"font-size: 0.8em; font-weight: bold; line-height: 1; border-radius: 0.35em; text-transform: uppercase; vertical-align: middle; margin-left: 0.5rem\">LOC</span>\n",
              "</mark>\n",
              ", na noite desta sexta-feira.ela deixa um filho de 1 ano e 10 meses de idade. o velório deve acontecer neste sábado (6) de manhã, em goiânia.a empresa que transportava a cantora de música \n",
              "<mark class=\"entity\" style=\"background: #7aecec; padding: 0.45em 0.6em; margin: 0 0.25em; line-height: 1; border-radius: 0.35em;\">\n",
              "    sertaneja marília mendonça\n",
              "    <span style=\"font-size: 0.8em; font-weight: bold; line-height: 1; border-radius: 0.35em; text-transform: uppercase; vertical-align: middle; margin-left: 0.5rem\">ORG</span>\n",
              "</mark>\n",
              " foi alvo de uma denúncia anônima seis meses antes do acidente.a denúncia dizia que a aeronave operada pela \n",
              "<mark class=\"entity\" style=\"background: #7aecec; padding: 0.45em 0.6em; margin: 0 0.25em; line-height: 1; border-radius: 0.35em;\">\n",
              "    pec\n",
              "    <span style=\"font-size: 0.8em; font-weight: bold; line-height: 1; border-radius: 0.35em; text-transform: uppercase; vertical-align: middle; margin-left: 0.5rem\">ORG</span>\n",
              "</mark>\n",
              " táxi aéreo tinha problemas no sistema antiembaçamento do para-brisa que dificultariam os pousos e decolagens. não há indícios de que a falha denunciada possa ter relação com a queda.o acidente trouxe à tona novamente a discussão sobre o índice de incidentes envolvendo a aviação particular no país. aviões particulares — em geral, de menor porte, como o usado pelo cantora \n",
              "<mark class=\"entity\" style=\"background: #ddd; padding: 0.45em 0.6em; margin: 0 0.25em; line-height: 1; border-radius: 0.35em;\">\n",
              "    —\n",
              "    <span style=\"font-size: 0.8em; font-weight: bold; line-height: 1; border-radius: 0.35em; text-transform: uppercase; vertical-align: middle; margin-left: 0.5rem\">PER</span>\n",
              "</mark>\n",
              " estão envolvidos na maior parte dos acidentes de aviação no país.já assistiu aos nossos novos vídeos no youtube? inscreva-se no nosso canal! a equipe da \n",
              "<mark class=\"entity\" style=\"background: #7aecec; padding: 0.45em 0.6em; margin: 0 0.25em; line-height: 1; border-radius: 0.35em;\">\n",
              "    bbc news\n",
              "    <span style=\"font-size: 0.8em; font-weight: bold; line-height: 1; border-radius: 0.35em; text-transform: uppercase; vertical-align: middle; margin-left: 0.5rem\">ORG</span>\n",
              "</mark>\n",
              " brasil lê para você algumas de suas melhores reportagensepisódios© 2021 \n",
              "<mark class=\"entity\" style=\"background: #7aecec; padding: 0.45em 0.6em; margin: 0 0.25em; line-height: 1; border-radius: 0.35em;\">\n",
              "    bbc\n",
              "    <span style=\"font-size: 0.8em; font-weight: bold; line-height: 1; border-radius: 0.35em; text-transform: uppercase; vertical-align: middle; margin-left: 0.5rem\">ORG</span>\n",
              "</mark>\n",
              ". a \n",
              "<mark class=\"entity\" style=\"background: #7aecec; padding: 0.45em 0.6em; margin: 0 0.25em; line-height: 1; border-radius: 0.35em;\">\n",
              "    bbc\n",
              "    <span style=\"font-size: 0.8em; font-weight: bold; line-height: 1; border-radius: 0.35em; text-transform: uppercase; vertical-align: middle; margin-left: 0.5rem\">ORG</span>\n",
              "</mark>\n",
              " não se responsabiliza pelo conteúdo de sites externos. \n",
              "<mark class=\"entity\" style=\"background: #ddd; padding: 0.45em 0.6em; margin: 0 0.25em; line-height: 1; border-radius: 0.35em;\">\n",
              "    leia\n",
              "    <span style=\"font-size: 0.8em; font-weight: bold; line-height: 1; border-radius: 0.35em; text-transform: uppercase; vertical-align: middle; margin-left: 0.5rem\">PER</span>\n",
              "</mark>\n",
              " sobre nossa política em relação a links externos.</div></span>"
            ],
            "text/plain": [
              "<IPython.core.display.HTML object>"
            ]
          },
          "metadata": {}
        }
      ]
    },
    {
      "cell_type": "markdown",
      "metadata": {
        "id": "xcMXWz7LTCjc"
      },
      "source": [
        "## Nuvens de palavras e stop words"
      ]
    },
    {
      "cell_type": "code",
      "metadata": {
        "id": "VAGUZ2aik6l0"
      },
      "source": [
        "from spacy.lang.pt.stop_words import STOP_WORDS\n",
        "print(STOP_WORDS)"
      ],
      "execution_count": null,
      "outputs": []
    },
    {
      "cell_type": "code",
      "metadata": {
        "id": "5EkGN0K2lQWw"
      },
      "source": [
        "doc = pln(conteudo)\n",
        "lista_token = []\n",
        "for token in doc:\n",
        "  lista_token.append(token.text)"
      ],
      "execution_count": 64,
      "outputs": []
    },
    {
      "cell_type": "code",
      "metadata": {
        "colab": {
          "base_uri": "https://localhost:8080/"
        },
        "id": "uBtJu4rymQao",
        "outputId": "3c3d7052-978c-417d-d1c2-c94bf347ba2b"
      },
      "source": [
        "len(lista_token)"
      ],
      "execution_count": 65,
      "outputs": [
        {
          "output_type": "execute_result",
          "data": {
            "text/plain": [
              "777"
            ]
          },
          "metadata": {},
          "execution_count": 65
        }
      ]
    },
    {
      "cell_type": "code",
      "metadata": {
        "id": "3NClayF1lvvw"
      },
      "source": [
        "stop = []\n",
        "for palavra in lista_token:\n",
        "  if pln.vocab[palavra].is_stop == False:\n",
        "    stop.append(palavra)"
      ],
      "execution_count": 66,
      "outputs": []
    },
    {
      "cell_type": "code",
      "metadata": {
        "colab": {
          "base_uri": "https://localhost:8080/"
        },
        "id": "DqnDA9ogmT24",
        "outputId": "94fa5d7a-4399-44d5-d89b-22dcc58736b5"
      },
      "source": [
        "len(stop)"
      ],
      "execution_count": 67,
      "outputs": [
        {
          "output_type": "execute_result",
          "data": {
            "text/plain": [
              "510"
            ]
          },
          "metadata": {},
          "execution_count": 67
        }
      ]
    },
    {
      "cell_type": "code",
      "metadata": {
        "id": "dpclxVY6i7GS"
      },
      "source": [
        "from matplotlib.colors import ListedColormap\n",
        "color_map = ListedColormap(['blue', 'red', 'purple', 'green'])"
      ],
      "execution_count": 58,
      "outputs": []
    },
    {
      "cell_type": "code",
      "metadata": {
        "id": "zxmV8YvtjW4Q"
      },
      "source": [
        "from wordcloud import WordCloud\n",
        "cloud = WordCloud(background_color = 'black', max_words = 100, colormap=color_map)"
      ],
      "execution_count": 61,
      "outputs": []
    },
    {
      "cell_type": "code",
      "metadata": {
        "colab": {
          "base_uri": "https://localhost:8080/",
          "height": 310
        },
        "id": "I-s1UyAgjwwh",
        "outputId": "98196320-cbd2-4c19-bd5e-c63bead643f8"
      },
      "source": [
        "import matplotlib.pyplot as plt\n",
        "cloud = cloud.generate(' '.join(stop))\n",
        "plt.figure(figsize=(10, 10))\n",
        "plt.imshow(cloud)\n",
        "plt.axis('off')\n",
        "plt.show()"
      ],
      "execution_count": 68,
      "outputs": [
        {
          "output_type": "display_data",
          "data": {
            "image/png": "[encoded data removed]",
            "text/plain": [
              "<Figure size 720x720 with 1 Axes>"
            ]
          },
          "metadata": {
            "needs_background": "light"
          }
        }
      ]
    }
  ]
}