{
  "nbformat": 4,
  "nbformat_minor": 0,
  "metadata": {
    "colab": {
      "name": "Algoritmos de Otimização EXEMPLO.ipynb",
      "provenance": [],
      "authorship_tag": "ABX9TyMa3jcl192Wyhd59Tb/AzSA",
      "include_colab_link": true
    },
    "kernelspec": {
      "name": "python3",
      "display_name": "Python 3"
    },
    "language_info": {
      "name": "python"
    }
  },
  "cells": [
    {
      "cell_type": "markdown",
      "metadata": {
        "id": "view-in-github",
        "colab_type": "text"
      },
      "source": [
        "<a href=\"https://colab.research.google.com/github/filipesartori/Inteligencia-Artificial/blob/main/Algoritmos_de_Otimiza%C3%A7%C3%A3o_EXEMPLO.ipynb\" target=\"_parent\"><img src=\"https://colab.research.google.com/assets/colab-badge.svg\" alt=\"Open In Colab\"/></a>"
      ]
    },
    {
      "cell_type": "code",
      "metadata": {
        "colab": {
          "base_uri": "https://localhost:8080/"
        },
        "id": "Km6ZofzKNkL6",
        "outputId": "27b14192-fe37-483a-b0b2-9a873c1a17b2"
      },
      "source": [
        "!pip install mlrose"
      ],
      "execution_count": 2,
      "outputs": [
        {
          "output_type": "stream",
          "name": "stdout",
          "text": [
            "Requirement already satisfied: mlrose in /usr/local/lib/python3.7/dist-packages (1.3.0)\n",
            "Requirement already satisfied: sklearn in /usr/local/lib/python3.7/dist-packages (from mlrose) (0.0)\n",
            "Requirement already satisfied: scipy in /usr/local/lib/python3.7/dist-packages (from mlrose) (1.4.1)\n",
            "Requirement already satisfied: numpy in /usr/local/lib/python3.7/dist-packages (from mlrose) (1.19.5)\n",
            "Requirement already satisfied: scikit-learn in /usr/local/lib/python3.7/dist-packages (from sklearn->mlrose) (0.22.2.post1)\n",
            "Requirement already satisfied: joblib>=0.11 in /usr/local/lib/python3.7/dist-packages (from scikit-learn->sklearn->mlrose) (1.0.1)\n"
          ]
        }
      ]
    },
    {
      "cell_type": "code",
      "metadata": {
        "id": "WQ9ke0aCN08c"
      },
      "source": [
        "import mlrose"
      ],
      "execution_count": 4,
      "outputs": []
    },
    {
      "cell_type": "code",
      "metadata": {
        "id": "a5eVEUKKN69o"
      },
      "source": [
        "produtos = [('Refrigerador A', 0.751, 999.90),\n",
        "            ('Celular', 0.0000899, 2911.12),\n",
        "            ('TV 55', 0.400, 4346.99),\n",
        "            ('TV 50', 0.290, 3999.90),\n",
        "            ('TV 42', 0.200, 2999.00),\n",
        "            ('Notebook A', 0.00350, 2499.90),\n",
        "            ('Ventilador', 0.496, 199.90),\n",
        "            ('Microondas A', 0.0424, 308.66),\n",
        "            ('Microondas B', 0.0544, 429.90),\n",
        "            ('Microondas C', 0.0319, 299.29),\n",
        "            ('Refrigerador B', 0.635, 849.00),\n",
        "            ('Refrigerador C', 0.870, 1199.89),\n",
        "            ('Notebook B', 0.498, 1999.90),\n",
        "            ('Notebook C', 0.527, 3999.00)]\n",
        "espaco_disponivel = 3"
      ],
      "execution_count": 5,
      "outputs": []
    },
    {
      "cell_type": "code",
      "metadata": {
        "id": "OHn4JUTHODvD"
      },
      "source": [
        "def imprimir_solucao(solucao):\n",
        "  for i in range(len(solucao)):\n",
        "    if solucao[i] == 1:\n",
        "      print('%s - %s' % (produtos[i][0], produtos[i][2]))"
      ],
      "execution_count": 6,
      "outputs": []
    },
    {
      "cell_type": "code",
      "metadata": {
        "colab": {
          "base_uri": "https://localhost:8080/"
        },
        "id": "nfeejC_KOou3",
        "outputId": "314961de-3e00-4355-8daf-d505cc74706d"
      },
      "source": [
        "imprimir_solucao([0, 1, 0, 0, 1, 1, 1, 0, 1, 1, 0, 1, 1, 1])"
      ],
      "execution_count": 7,
      "outputs": [
        {
          "output_type": "stream",
          "name": "stdout",
          "text": [
            "Celular - 2911.12\n",
            "TV 42 - 2999.0\n",
            "Notebook A - 2499.9\n",
            "Ventilador - 199.9\n",
            "Microondas B - 429.9\n",
            "Microondas C - 299.29\n",
            "Refrigerador C - 1199.89\n",
            "Notebook B - 1999.9\n",
            "Notebook C - 3999.0\n"
          ]
        }
      ]
    },
    {
      "cell_type": "code",
      "metadata": {
        "id": "qj-OLRZXO_ZM"
      },
      "source": [
        "def fitness_function(solucao):\n",
        "  custo = 0\n",
        "  soma_espaco = 0\n",
        "  for i in range(len(solucao)):\n",
        "    if solucao[i] == 1:\n",
        "      custo += produtos[i][2]\n",
        "      soma_espaco += produtos[i][1]\n",
        "  if soma_espaco > espaco_disponivel:\n",
        "    custo = 1\n",
        "  return custo      "
      ],
      "execution_count": 9,
      "outputs": []
    },
    {
      "cell_type": "code",
      "metadata": {
        "colab": {
          "base_uri": "https://localhost:8080/"
        },
        "id": "4viDGDXZP1pZ",
        "outputId": "acbcfdf3-ee69-472c-f5a0-8a4192d4d3e9"
      },
      "source": [
        "fitness_function([0, 1, 0, 0, 1, 1, 1, 0, 1, 1, 0, 1, 1, 1])"
      ],
      "execution_count": 10,
      "outputs": [
        {
          "output_type": "execute_result",
          "data": {
            "text/plain": [
              "16537.9"
            ]
          },
          "metadata": {},
          "execution_count": 10
        }
      ]
    },
    {
      "cell_type": "code",
      "metadata": {
        "id": "UCASxuXBQDXm"
      },
      "source": [
        "fitness = mlrose.CustomFitness(fitness_function)"
      ],
      "execution_count": 11,
      "outputs": []
    },
    {
      "cell_type": "code",
      "metadata": {
        "id": "i-4wHxx1QKMf"
      },
      "source": [
        "problema = mlrose.DiscreteOpt(length=14, fitness_fn=fitness, \n",
        "                              maximize = True, max_val = 2)"
      ],
      "execution_count": 12,
      "outputs": []
    },
    {
      "cell_type": "code",
      "metadata": {
        "colab": {
          "base_uri": "https://localhost:8080/"
        },
        "id": "YMPcafsPQcGF",
        "outputId": "4cb27588-3222-43fa-a602-34f905740e22"
      },
      "source": [
        "melhor_solucao, melhor_custo = mlrose.hill_climb(problema)\n",
        "melhor_solucao, melhor_custo "
      ],
      "execution_count": 13,
      "outputs": [
        {
          "output_type": "execute_result",
          "data": {
            "text/plain": [
              "(array([1, 1, 0, 0, 1, 1, 1, 1, 1, 1, 0, 1, 0, 1]), 15846.56)"
            ]
          },
          "metadata": {},
          "execution_count": 13
        }
      ]
    },
    {
      "cell_type": "code",
      "metadata": {
        "colab": {
          "base_uri": "https://localhost:8080/"
        },
        "id": "OhXFnPS8QxqI",
        "outputId": "df2738e0-6c17-48d4-f48f-d58c5fba01ce"
      },
      "source": [
        "imprimir_solucao(melhor_solucao)"
      ],
      "execution_count": 14,
      "outputs": [
        {
          "output_type": "stream",
          "name": "stdout",
          "text": [
            "Refrigerador A - 999.9\n",
            "Celular - 2911.12\n",
            "TV 42 - 2999.0\n",
            "Notebook A - 2499.9\n",
            "Ventilador - 199.9\n",
            "Microondas A - 308.66\n",
            "Microondas B - 429.9\n",
            "Microondas C - 299.29\n",
            "Refrigerador C - 1199.89\n",
            "Notebook C - 3999.0\n"
          ]
        }
      ]
    },
    {
      "cell_type": "code",
      "metadata": {
        "colab": {
          "base_uri": "https://localhost:8080/"
        },
        "id": "Y8lldvqgQ12g",
        "outputId": "eeb77ef7-fedb-4776-9b80-99775fe5d2a9"
      },
      "source": [
        "melhor_solucao, melhor_custo = mlrose.simulated_annealing(problema)\n",
        "melhor_solucao, melhor_custo"
      ],
      "execution_count": 15,
      "outputs": [
        {
          "output_type": "stream",
          "name": "stderr",
          "text": [
            "/usr/local/lib/python3.7/dist-packages/mlrose/algorithms.py:311: RuntimeWarning: overflow encountered in exp\n",
            "  prob = np.exp(delta_e/temp)\n"
          ]
        },
        {
          "output_type": "execute_result",
          "data": {
            "text/plain": [
              "(array([1, 1, 0, 1, 1, 1, 0, 1, 1, 1, 1, 0, 0, 1]), 19295.67)"
            ]
          },
          "metadata": {},
          "execution_count": 15
        }
      ]
    },
    {
      "cell_type": "code",
      "metadata": {
        "colab": {
          "base_uri": "https://localhost:8080/"
        },
        "id": "yu4_Rv9FQ8tX",
        "outputId": "fd640003-5905-404c-b101-3ebbce020349"
      },
      "source": [
        "imprimir_solucao(melhor_solucao)"
      ],
      "execution_count": 16,
      "outputs": [
        {
          "output_type": "stream",
          "name": "stdout",
          "text": [
            "Refrigerador A - 999.9\n",
            "Celular - 2911.12\n",
            "TV 50 - 3999.9\n",
            "TV 42 - 2999.0\n",
            "Notebook A - 2499.9\n",
            "Microondas A - 308.66\n",
            "Microondas B - 429.9\n",
            "Microondas C - 299.29\n",
            "Refrigerador B - 849.0\n",
            "Notebook C - 3999.0\n"
          ]
        }
      ]
    },
    {
      "cell_type": "code",
      "metadata": {
        "colab": {
          "base_uri": "https://localhost:8080/"
        },
        "id": "AVV88tveRA--",
        "outputId": "80e2c38a-747a-454b-8f6d-69f3d64b6b66"
      },
      "source": [
        "melhor_solucao, melhor_custo = mlrose.genetic_alg(problema, pop_size=500, mutation_prob=0.2)\n",
        "melhor_solucao, melhor_custo"
      ],
      "execution_count": 17,
      "outputs": [
        {
          "output_type": "execute_result",
          "data": {
            "text/plain": [
              "(array([0, 1, 1, 1, 1, 1, 0, 1, 1, 1, 0, 1, 1, 1]), 24993.550000000003)"
            ]
          },
          "metadata": {},
          "execution_count": 17
        }
      ]
    },
    {
      "cell_type": "code",
      "metadata": {
        "colab": {
          "base_uri": "https://localhost:8080/"
        },
        "id": "nGviZ6fxRLrI",
        "outputId": "2227df58-1dd4-4bff-f6e3-9b74e5259a26"
      },
      "source": [
        "imprimir_solucao(melhor_solucao)"
      ],
      "execution_count": 18,
      "outputs": [
        {
          "output_type": "stream",
          "name": "stdout",
          "text": [
            "Celular - 2911.12\n",
            "TV 55 - 4346.99\n",
            "TV 50 - 3999.9\n",
            "TV 42 - 2999.0\n",
            "Notebook A - 2499.9\n",
            "Microondas A - 308.66\n",
            "Microondas B - 429.9\n",
            "Microondas C - 299.29\n",
            "Refrigerador C - 1199.89\n",
            "Notebook B - 1999.9\n",
            "Notebook C - 3999.0\n"
          ]
        }
      ]
    }
  ]
}