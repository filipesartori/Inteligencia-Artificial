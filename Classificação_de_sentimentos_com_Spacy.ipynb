{
  "nbformat": 4,
  "nbformat_minor": 0,
  "metadata": {
    "colab": {
      "name": "Classificação de sentimentos com Spacy.ipynb",
      "provenance": [],
      "authorship_tag": "ABX9TyORB+4e8Qam6PIVMT3y3CXW",
      "include_colab_link": true
    },
    "kernelspec": {
      "name": "python3",
      "display_name": "Python 3"
    },
    "language_info": {
      "name": "python"
    }
  },
  "cells": [
    {
      "cell_type": "markdown",
      "metadata": {
        "id": "view-in-github",
        "colab_type": "text"
      },
      "source": [
        "<a href=\"https://colab.research.google.com/github/filipesartori/Inteligencia-Artificial/blob/main/Classifica%C3%A7%C3%A3o_de_sentimentos_com_Spacy.ipynb\" target=\"_parent\"><img src=\"https://colab.research.google.com/assets/colab-badge.svg\" alt=\"Open In Colab\"/></a>"
      ]
    },
    {
      "cell_type": "markdown",
      "metadata": {
        "id": "nVNccU4Qr-QR"
      },
      "source": [
        "# Classificação de textos do Twitter com spaCy"
      ]
    },
    {
      "cell_type": "markdown",
      "metadata": {
        "id": "OYqpiSy2sA3H"
      },
      "source": [
        "## Importação e instalação das bibliotecas"
      ]
    },
    {
      "cell_type": "code",
      "metadata": {
        "id": "F4_FL-8nqhE2"
      },
      "source": [
        "!pip install -q spacy==2.2.3"
      ],
      "execution_count": 12,
      "outputs": []
    },
    {
      "cell_type": "code",
      "metadata": {
        "colab": {
          "base_uri": "https://localhost:8080/",
          "height": 35
        },
        "id": "lotOO3Vdr7Jh",
        "outputId": "9825831e-8fa9-426b-a92e-20c04b6191eb"
      },
      "source": [
        "import spacy\n",
        "spacy.__version__"
      ],
      "execution_count": 13,
      "outputs": [
        {
          "output_type": "execute_result",
          "data": {
            "application/vnd.google.colaboratory.intrinsic+json": {
              "type": "string"
            },
            "text/plain": [
              "'2.2.3'"
            ]
          },
          "metadata": {},
          "execution_count": 13
        }
      ]
    },
    {
      "cell_type": "code",
      "metadata": {
        "colab": {
          "base_uri": "https://localhost:8080/"
        },
        "id": "Au_cdLnfttxR",
        "outputId": "586d7436-7d74-4548-da77-695e3ff4ac2f"
      },
      "source": [
        "!python3 -m spacy download pt"
      ],
      "execution_count": 14,
      "outputs": [
        {
          "output_type": "stream",
          "name": "stdout",
          "text": [
            "Collecting pt_core_news_sm==2.2.5\n",
            "  Downloading https://github.com/explosion/spacy-models/releases/download/pt_core_news_sm-2.2.5/pt_core_news_sm-2.2.5.tar.gz (21.2 MB)\n",
            "\u001b[K     |████████████████████████████████| 21.2 MB 1.1 MB/s \n",
            "\u001b[?25hRequirement already satisfied: spacy>=2.2.2 in /usr/local/lib/python3.7/dist-packages (from pt_core_news_sm==2.2.5) (2.2.3)\n",
            "Requirement already satisfied: plac<1.2.0,>=0.9.6 in /usr/local/lib/python3.7/dist-packages (from spacy>=2.2.2->pt_core_news_sm==2.2.5) (1.1.3)\n",
            "Requirement already satisfied: wasabi<1.1.0,>=0.4.0 in /usr/local/lib/python3.7/dist-packages (from spacy>=2.2.2->pt_core_news_sm==2.2.5) (0.8.2)\n",
            "Requirement already satisfied: numpy>=1.15.0 in /usr/local/lib/python3.7/dist-packages (from spacy>=2.2.2->pt_core_news_sm==2.2.5) (1.19.5)\n",
            "Requirement already satisfied: preshed<3.1.0,>=3.0.2 in /usr/local/lib/python3.7/dist-packages (from spacy>=2.2.2->pt_core_news_sm==2.2.5) (3.0.5)\n",
            "Requirement already satisfied: requests<3.0.0,>=2.13.0 in /usr/local/lib/python3.7/dist-packages (from spacy>=2.2.2->pt_core_news_sm==2.2.5) (2.23.0)\n",
            "Requirement already satisfied: blis<0.5.0,>=0.4.0 in /usr/local/lib/python3.7/dist-packages (from spacy>=2.2.2->pt_core_news_sm==2.2.5) (0.4.1)\n",
            "Requirement already satisfied: cymem<2.1.0,>=2.0.2 in /usr/local/lib/python3.7/dist-packages (from spacy>=2.2.2->pt_core_news_sm==2.2.5) (2.0.5)\n",
            "Requirement already satisfied: catalogue<1.1.0,>=0.0.7 in /usr/local/lib/python3.7/dist-packages (from spacy>=2.2.2->pt_core_news_sm==2.2.5) (1.0.0)\n",
            "Requirement already satisfied: thinc<7.4.0,>=7.3.0 in /usr/local/lib/python3.7/dist-packages (from spacy>=2.2.2->pt_core_news_sm==2.2.5) (7.3.1)\n",
            "Requirement already satisfied: murmurhash<1.1.0,>=0.28.0 in /usr/local/lib/python3.7/dist-packages (from spacy>=2.2.2->pt_core_news_sm==2.2.5) (1.0.5)\n",
            "Requirement already satisfied: setuptools in /usr/local/lib/python3.7/dist-packages (from spacy>=2.2.2->pt_core_news_sm==2.2.5) (57.4.0)\n",
            "Requirement already satisfied: srsly<1.1.0,>=0.1.0 in /usr/local/lib/python3.7/dist-packages (from spacy>=2.2.2->pt_core_news_sm==2.2.5) (1.0.5)\n",
            "Requirement already satisfied: importlib-metadata>=0.20 in /usr/local/lib/python3.7/dist-packages (from catalogue<1.1.0,>=0.0.7->spacy>=2.2.2->pt_core_news_sm==2.2.5) (4.8.1)\n",
            "Requirement already satisfied: typing-extensions>=3.6.4 in /usr/local/lib/python3.7/dist-packages (from importlib-metadata>=0.20->catalogue<1.1.0,>=0.0.7->spacy>=2.2.2->pt_core_news_sm==2.2.5) (3.7.4.3)\n",
            "Requirement already satisfied: zipp>=0.5 in /usr/local/lib/python3.7/dist-packages (from importlib-metadata>=0.20->catalogue<1.1.0,>=0.0.7->spacy>=2.2.2->pt_core_news_sm==2.2.5) (3.6.0)\n",
            "Requirement already satisfied: chardet<4,>=3.0.2 in /usr/local/lib/python3.7/dist-packages (from requests<3.0.0,>=2.13.0->spacy>=2.2.2->pt_core_news_sm==2.2.5) (3.0.4)\n",
            "Requirement already satisfied: certifi>=2017.4.17 in /usr/local/lib/python3.7/dist-packages (from requests<3.0.0,>=2.13.0->spacy>=2.2.2->pt_core_news_sm==2.2.5) (2021.5.30)\n",
            "Requirement already satisfied: urllib3!=1.25.0,!=1.25.1,<1.26,>=1.21.1 in /usr/local/lib/python3.7/dist-packages (from requests<3.0.0,>=2.13.0->spacy>=2.2.2->pt_core_news_sm==2.2.5) (1.24.3)\n",
            "Requirement already satisfied: idna<3,>=2.5 in /usr/local/lib/python3.7/dist-packages (from requests<3.0.0,>=2.13.0->spacy>=2.2.2->pt_core_news_sm==2.2.5) (2.10)\n",
            "Requirement already satisfied: tqdm<5.0.0,>=4.10.0 in /usr/local/lib/python3.7/dist-packages (from thinc<7.4.0,>=7.3.0->spacy>=2.2.2->pt_core_news_sm==2.2.5) (4.62.3)\n",
            "\u001b[38;5;2m✔ Download and installation successful\u001b[0m\n",
            "You can now load the model via spacy.load('pt_core_news_sm')\n",
            "\u001b[38;5;2m✔ Linking successful\u001b[0m\n",
            "/usr/local/lib/python3.7/dist-packages/pt_core_news_sm -->\n",
            "/usr/local/lib/python3.7/dist-packages/spacy/data/pt\n",
            "You can now load the model via spacy.load('pt')\n"
          ]
        }
      ]
    },
    {
      "cell_type": "code",
      "metadata": {
        "id": "kTdLaUqM7CJk"
      },
      "source": [
        "import pandas as pd\n",
        "import string\n",
        "import spacy\n",
        "import random\n",
        "import seaborn as sns\n",
        "import numpy as np\n",
        "import re"
      ],
      "execution_count": 15,
      "outputs": []
    },
    {
      "cell_type": "markdown",
      "metadata": {
        "id": "git9PDycsFA0"
      },
      "source": [
        "## Carregamento das bases de dados"
      ]
    },
    {
      "cell_type": "code",
      "metadata": {
        "id": "sH2YIUWX7UlP"
      },
      "source": [
        "base_dados = pd.read_csv('/content/base_treinamento.txt', encoding = 'utf-8')"
      ],
      "execution_count": 16,
      "outputs": []
    },
    {
      "cell_type": "code",
      "metadata": {
        "colab": {
          "base_uri": "https://localhost:8080/",
          "height": 333
        },
        "id": "yfg-zD3f8cE3",
        "outputId": "85d27c48-f26c-4a7b-97d5-808b0fe00040"
      },
      "source": [
        "sns.countplot(base_dados['emocao'], label = 'Contagem');"
      ],
      "execution_count": 17,
      "outputs": [
        {
          "output_type": "stream",
          "name": "stderr",
          "text": [
            "/usr/local/lib/python3.7/dist-packages/seaborn/_decorators.py:43: FutureWarning: Pass the following variable as a keyword arg: x. From version 0.12, the only valid positional argument will be `data`, and passing other arguments without an explicit keyword will result in an error or misinterpretation.\n",
            "  FutureWarning\n"
          ]
        },
        {
          "output_type": "display_data",
          "data": {
            "image/png": "[encoded data removed]",
            "text/plain": [
              "<Figure size 432x288 with 1 Axes>"
            ]
          },
          "metadata": {
            "needs_background": "light"
          }
        }
      ]
    },
    {
      "cell_type": "code",
      "metadata": {
        "id": "uSh8i1rv9Obm"
      },
      "source": [
        ""
      ],
      "execution_count": 17,
      "outputs": []
    },
    {
      "cell_type": "markdown",
      "metadata": {
        "id": "77_9l3yasXZQ"
      },
      "source": [
        "## Base de teste"
      ]
    },
    {
      "cell_type": "markdown",
      "metadata": {
        "id": "7WY8H2iIseYe"
      },
      "source": [
        "## Função para pré-processamento dos textos\n",
        "\n",
        "- Letras minúsculas\n",
        "- Nome do usuário (@)\n",
        "- URLs\n",
        "- Espaços em branco\n",
        "- Emoticons\n",
        "- Stop words\n",
        "- Lematização\n",
        "- Pontuações"
      ]
    },
    {
      "cell_type": "code",
      "metadata": {
        "colab": {
          "base_uri": "https://localhost:8080/",
          "height": 35
        },
        "id": "E-Qhl5ga9dxt",
        "outputId": "77a12aaf-7162-4ad7-f7e7-b471c14a6200"
      },
      "source": [
        "pontuacao = string.punctuation\n",
        "pontuacao"
      ],
      "execution_count": 18,
      "outputs": [
        {
          "output_type": "execute_result",
          "data": {
            "application/vnd.google.colaboratory.intrinsic+json": {
              "type": "string"
            },
            "text/plain": [
              "'!\"#$%&\\'()*+,-./:;<=>?@[\\\\]^_`{|}~'"
            ]
          },
          "metadata": {},
          "execution_count": 18
        }
      ]
    },
    {
      "cell_type": "code",
      "metadata": {
        "id": "fbqNIUdc9o8P"
      },
      "source": [
        "from spacy.lang.pt.stop_words import STOP_WORDS\n",
        "sw = STOP_WORDS"
      ],
      "execution_count": 19,
      "outputs": []
    },
    {
      "cell_type": "code",
      "metadata": {
        "id": "oFljSjlA97gJ"
      },
      "source": [
        "pln = spacy.load('pt')"
      ],
      "execution_count": 20,
      "outputs": []
    },
    {
      "cell_type": "code",
      "metadata": {
        "id": "Rl0Gv40A-dU5"
      },
      "source": [
        "def preprocessamento(texto):\n",
        "  texto = texto.lower()\n",
        "  documento = pln(texto)\n",
        "\n",
        "  lista = []\n",
        "  for token in documento:\n",
        "    lista.append(token.lemma_)\n",
        "\n",
        "  lista = [palavra for palavra in lista if palavra not in sw and palavra not in pontuacao]  \n",
        "  lista = ' '.join([str(elemento) for elemento in lista if not elemento.isdigit()])\n",
        "\n",
        "  return(lista)  \n",
        "\n"
      ],
      "execution_count": 21,
      "outputs": []
    },
    {
      "cell_type": "code",
      "metadata": {
        "colab": {
          "base_uri": "https://localhost:8080/",
          "height": 35
        },
        "id": "lq1E489R-opO",
        "outputId": "57741c08-b8af-4c7b-d95a-a10f58dee873"
      },
      "source": [
        "teste = preprocessamento('As vezes sinto que todo o vAzio existente no mundo e em outros 10, estão pré refLetindo em mim')\n",
        "teste"
      ],
      "execution_count": 22,
      "outputs": [
        {
          "output_type": "execute_result",
          "data": {
            "application/vnd.google.colaboratory.intrinsic+json": {
              "type": "string"
            },
            "text/plain": [
              "'o vezar sentir o vaziar existente o mundo e outro pré refletindo mim'"
            ]
          },
          "metadata": {},
          "execution_count": 22
        }
      ]
    },
    {
      "cell_type": "markdown",
      "metadata": {
        "id": "YDElwLTasrVb"
      },
      "source": [
        "## Limpeza dos textos"
      ]
    },
    {
      "cell_type": "code",
      "metadata": {
        "colab": {
          "base_uri": "https://localhost:8080/",
          "height": 204
        },
        "id": "b1NrXcLxB6DB",
        "outputId": "32b56ea6-d64e-4afb-8f2c-b50eadd8f7c0"
      },
      "source": [
        "base_dados.head()"
      ],
      "execution_count": 23,
      "outputs": [
        {
          "output_type": "execute_result",
          "data": {
            "text/html": [
              "<div>\n",
              "<style scoped>\n",
              "    .dataframe tbody tr th:only-of-type {\n",
              "        vertical-align: middle;\n",
              "    }\n",
              "\n",
              "    .dataframe tbody tr th {\n",
              "        vertical-align: top;\n",
              "    }\n",
              "\n",
              "    .dataframe thead th {\n",
              "        text-align: right;\n",
              "    }\n",
              "</style>\n",
              "<table border=\"1\" class=\"dataframe\">\n",
              "  <thead>\n",
              "    <tr style=\"text-align: right;\">\n",
              "      <th></th>\n",
              "      <th>texto</th>\n",
              "      <th>emocao</th>\n",
              "    </tr>\n",
              "  </thead>\n",
              "  <tbody>\n",
              "    <tr>\n",
              "      <th>0</th>\n",
              "      <td>este trabalho é agradável</td>\n",
              "      <td>alegria</td>\n",
              "    </tr>\n",
              "    <tr>\n",
              "      <th>1</th>\n",
              "      <td>gosto de ficar no seu aconchego</td>\n",
              "      <td>alegria</td>\n",
              "    </tr>\n",
              "    <tr>\n",
              "      <th>2</th>\n",
              "      <td>fiz a adesão ao curso hoje</td>\n",
              "      <td>alegria</td>\n",
              "    </tr>\n",
              "    <tr>\n",
              "      <th>3</th>\n",
              "      <td>eu sou admirada por muitos</td>\n",
              "      <td>alegria</td>\n",
              "    </tr>\n",
              "    <tr>\n",
              "      <th>4</th>\n",
              "      <td>adoro como você</td>\n",
              "      <td>alegria</td>\n",
              "    </tr>\n",
              "  </tbody>\n",
              "</table>\n",
              "</div>"
            ],
            "text/plain": [
              "                             texto   emocao\n",
              "0        este trabalho é agradável  alegria\n",
              "1  gosto de ficar no seu aconchego  alegria\n",
              "2       fiz a adesão ao curso hoje  alegria\n",
              "3       eu sou admirada por muitos  alegria\n",
              "4                  adoro como você  alegria"
            ]
          },
          "metadata": {},
          "execution_count": 23
        }
      ]
    },
    {
      "cell_type": "code",
      "metadata": {
        "id": "Kl9PJhqiCAuj"
      },
      "source": [
        "base_dados['texto'] = base_dados['texto'].apply(preprocessamento)"
      ],
      "execution_count": 24,
      "outputs": []
    },
    {
      "cell_type": "code",
      "metadata": {
        "colab": {
          "base_uri": "https://localhost:8080/",
          "height": 204
        },
        "id": "dYJmJt7MCb0E",
        "outputId": "4b23d2d1-dc9a-4f09-ee88-a5f65722f66d"
      },
      "source": [
        "base_dados.head()"
      ],
      "execution_count": 25,
      "outputs": [
        {
          "output_type": "execute_result",
          "data": {
            "text/html": [
              "<div>\n",
              "<style scoped>\n",
              "    .dataframe tbody tr th:only-of-type {\n",
              "        vertical-align: middle;\n",
              "    }\n",
              "\n",
              "    .dataframe tbody tr th {\n",
              "        vertical-align: top;\n",
              "    }\n",
              "\n",
              "    .dataframe thead th {\n",
              "        text-align: right;\n",
              "    }\n",
              "</style>\n",
              "<table border=\"1\" class=\"dataframe\">\n",
              "  <thead>\n",
              "    <tr style=\"text-align: right;\">\n",
              "      <th></th>\n",
              "      <th>texto</th>\n",
              "      <th>emocao</th>\n",
              "    </tr>\n",
              "  </thead>\n",
              "  <tbody>\n",
              "    <tr>\n",
              "      <th>0</th>\n",
              "      <td>trabalhar agradável</td>\n",
              "      <td>alegria</td>\n",
              "    </tr>\n",
              "    <tr>\n",
              "      <th>1</th>\n",
              "      <td>gostar ficar o aconchegar</td>\n",
              "      <td>alegria</td>\n",
              "    </tr>\n",
              "    <tr>\n",
              "      <th>2</th>\n",
              "      <td>o adesão o o cursar hoje</td>\n",
              "      <td>alegria</td>\n",
              "    </tr>\n",
              "    <tr>\n",
              "      <th>3</th>\n",
              "      <td>admirar</td>\n",
              "      <td>alegria</td>\n",
              "    </tr>\n",
              "    <tr>\n",
              "      <th>4</th>\n",
              "      <td>adorar comer</td>\n",
              "      <td>alegria</td>\n",
              "    </tr>\n",
              "  </tbody>\n",
              "</table>\n",
              "</div>"
            ],
            "text/plain": [
              "                       texto   emocao\n",
              "0        trabalhar agradável  alegria\n",
              "1  gostar ficar o aconchegar  alegria\n",
              "2   o adesão o o cursar hoje  alegria\n",
              "3                    admirar  alegria\n",
              "4               adorar comer  alegria"
            ]
          },
          "metadata": {},
          "execution_count": 25
        }
      ]
    },
    {
      "cell_type": "markdown",
      "metadata": {
        "id": "7Gt43V0Dsxao"
      },
      "source": [
        "## Tratamento da classe"
      ]
    },
    {
      "cell_type": "code",
      "metadata": {
        "id": "P0KvmeukDk82"
      },
      "source": [
        "base_dados_final = []\n",
        "for texto, emocao in zip(base_dados['texto'], base_dados['emocao']):\n",
        "  if emocao == 'alegria':\n",
        "    dic = ({'ALEGRIA': True, 'MEDO': False})\n",
        "  elif emocao == 'medo':\n",
        "    dic = ({'ALEGRIA': False, 'MEDO': True})\n",
        "\n",
        "  base_dados_final.append([texto, dic.copy()])    \n"
      ],
      "execution_count": 26,
      "outputs": []
    },
    {
      "cell_type": "code",
      "metadata": {
        "colab": {
          "base_uri": "https://localhost:8080/"
        },
        "id": "gxAJC-VlE9ui",
        "outputId": "9f0eb190-fb9d-46aa-b04c-66dc11f12b28"
      },
      "source": [
        "base_dados_final"
      ],
      "execution_count": 27,
      "outputs": [
        {
          "output_type": "execute_result",
          "data": {
            "text/plain": [
              "[['trabalhar agradável', {'ALEGRIA': True, 'MEDO': False}],\n",
              " ['gostar ficar o aconchegar', {'ALEGRIA': True, 'MEDO': False}],\n",
              " ['o adesão o o cursar hoje', {'ALEGRIA': True, 'MEDO': False}],\n",
              " ['admirar', {'ALEGRIA': True, 'MEDO': False}],\n",
              " ['adorar comer', {'ALEGRIA': True, 'MEDO': False}],\n",
              " ['adorar cabelar maciar', {'ALEGRIA': True, 'MEDO': False}],\n",
              " ['adorar o cor olho', {'ALEGRIA': True, 'MEDO': False}],\n",
              " ['somar amável o outro', {'ALEGRIA': True, 'MEDO': False}],\n",
              " ['sentir umar afeição', {'ALEGRIA': True, 'MEDO': False}],\n",
              " ['querer agradar filho', {'ALEGRIA': True, 'MEDO': False}],\n",
              " ['sentir completamente amar', {'ALEGRIA': True, 'MEDO': False}],\n",
              " ['amar', {'ALEGRIA': True, 'MEDO': False}],\n",
              " ['alívio', {'ALEGRIA': True, 'MEDO': False}],\n",
              " ['o dor amenizar finalmente', {'ALEGRIA': True, 'MEDO': False}],\n",
              " ['achar apaixonar', {'ALEGRIA': True, 'MEDO': False}],\n",
              " ['amar maravilhoso', {'ALEGRIA': True, 'MEDO': False}],\n",
              " ['sentir animar', {'ALEGRIA': True, 'MEDO': False}],\n",
              " ['sentir hoje', {'ALEGRIA': True, 'MEDO': False}],\n",
              " ['comer o luar belo', {'ALEGRIA': True, 'MEDO': False}],\n",
              " ['o dia bonito', {'ALEGRIA': True, 'MEDO': False}],\n",
              " ['comer afortunar', {'ALEGRIA': True, 'MEDO': False}],\n",
              " ['o maravilhar mundo', {'ALEGRIA': True, 'MEDO': False}],\n",
              " ['receber caro hoje colega', {'ALEGRIA': True, 'MEDO': False}],\n",
              " ['sentir reconfortar hoje', {'ALEGRIA': True, 'MEDO': False}],\n",
              " ['o amigo', {'ALEGRIA': True, 'MEDO': False}],\n",
              " ['contentar o resultar teste', {'ALEGRIA': True, 'MEDO': False}],\n",
              " ['pintura brilhante', {'ALEGRIA': True, 'MEDO': False}],\n",
              " ['água abundância', {'ALEGRIA': True, 'MEDO': False}],\n",
              " ['roupar delicado', {'ALEGRIA': True, 'MEDO': False}],\n",
              " ['comediante', {'ALEGRIA': True, 'MEDO': False}],\n",
              " ['bondade o suar', {'ALEGRIA': True, 'MEDO': False}],\n",
              " ['o amor lindar', {'ALEGRIA': True, 'MEDO': False}],\n",
              " ['amizade durar parir', {'ALEGRIA': True, 'MEDO': False}],\n",
              " ['eufórico o notícia', {'ALEGRIA': True, 'MEDO': False}],\n",
              " ['realmente fiel o mim', {'ALEGRIA': True, 'MEDO': False}],\n",
              " ['umar festa parir comemorar aniversário', {'ALEGRIA': True, 'MEDO': False}],\n",
              " ['graça o deus enxergar o certar', {'ALEGRIA': True, 'MEDO': False}],\n",
              " ['o melhor escolher', {'ALEGRIA': True, 'MEDO': False}],\n",
              " ['o incrível belo', {'ALEGRIA': True, 'MEDO': False}],\n",
              " ['engraçar explicar', {'ALEGRIA': True, 'MEDO': False}],\n",
              " ['emocionante n', {'ALEGRIA': True, 'MEDO': False}],\n",
              " ['cativar pelar olhar', {'ALEGRIA': True, 'MEDO': False}],\n",
              " ['loucamente apaixonar', {'ALEGRIA': True, 'MEDO': False}],\n",
              " ['dúvida', {'ALEGRIA': True, 'MEDO': False}],\n",
              " ['rodear pelar abraçar', {'ALEGRIA': True, 'MEDO': False}],\n",
              " ['estrelo pelar caminhar', {'ALEGRIA': True, 'MEDO': False}],\n",
              " ['sentir o sol', {'ALEGRIA': True, 'MEDO': False}],\n",
              " ['sorrir orelhar o orelhar', {'ALEGRIA': True, 'MEDO': False}],\n",
              " ['valer o peno', {'ALEGRIA': True, 'MEDO': False}],\n",
              " ['finalmente colocar amor', {'ALEGRIA': True, 'MEDO': False}],\n",
              " ['nó dançar noite adentrar', {'ALEGRIA': True, 'MEDO': False}],\n",
              " ['amor brilhante', {'ALEGRIA': True, 'MEDO': False}],\n",
              " ['tocar coração durante o caminhar', {'ALEGRIA': True, 'MEDO': False}],\n",
              " ['suar amigo e companheiro', {'ALEGRIA': True, 'MEDO': False}],\n",
              " ['trazer voltar o vidar', {'ALEGRIA': True, 'MEDO': False}],\n",
              " ['e comer sonhar doce', {'ALEGRIA': True, 'MEDO': False}],\n",
              " ['adorar doce frutar', {'ALEGRIA': True, 'MEDO': False}],\n",
              " ['suco favorito', {'ALEGRIA': True, 'MEDO': False}],\n",
              " ['agradecido pelar ajudar', {'ALEGRIA': True, 'MEDO': False}],\n",
              " ['enorme prazer equipar', {'ALEGRIA': True, 'MEDO': False}],\n",
              " ['trabalhar equipar o melhor', {'ALEGRIA': True, 'MEDO': False}],\n",
              " ['sentir flutuar o ar', {'ALEGRIA': True, 'MEDO': False}],\n",
              " ['o brisa agradável hoje', {'ALEGRIA': True, 'MEDO': False}],\n",
              " ['ótimo e compatível', {'ALEGRIA': True, 'MEDO': False}],\n",
              " ['compatível o outro', {'ALEGRIA': True, 'MEDO': False}],\n",
              " ['o órgão compatível o paciente', {'ALEGRIA': True, 'MEDO': False}],\n",
              " ['contentar aceito o faculdade', {'ALEGRIA': True, 'MEDO': False}],\n",
              " ['aprovar o exame', {'ALEGRIA': True, 'MEDO': False}],\n",
              " ['beneficiar pelar empresar', {'ALEGRIA': True, 'MEDO': False}],\n",
              " ['cativante', {'ALEGRIA': True, 'MEDO': False}],\n",
              " ['contentar o apoiar', {'ALEGRIA': True, 'MEDO': False}],\n",
              " ['comer e confortável', {'ALEGRIA': True, 'MEDO': False}],\n",
              " ['e quentar n frio', {'ALEGRIA': True, 'MEDO': False}],\n",
              " ['elogiar e', {'ALEGRIA': True, 'MEDO': False}],\n",
              " ['chamar parir comemorar', {'ALEGRIA': True, 'MEDO': False}],\n",
              " ['desejável o suar presença apresentação', {'ALEGRIA': True, 'MEDO': False}],\n",
              " ['grato o', {'ALEGRIA': True, 'MEDO': False}],\n",
              " ['dedicar n', {'ALEGRIA': True, 'MEDO': False}],\n",
              " ['completamente apaixonar', {'ALEGRIA': True, 'MEDO': False}],\n",
              " ['agitar noite', {'ALEGRIA': True, 'MEDO': False}],\n",
              " ['significar parir mim', {'ALEGRIA': True, 'MEDO': False}],\n",
              " ['agir preconceito e julgamento', {'ALEGRIA': True, 'MEDO': False}],\n",
              " ['finalmente completar o coleção maravilhoso',\n",
              "  {'ALEGRIA': True, 'MEDO': False}],\n",
              " ['suar rei', {'ALEGRIA': True, 'MEDO': False}],\n",
              " ['satisfatoriamente anunciar o vencedor jogo',\n",
              "  {'ALEGRIA': True, 'MEDO': False}],\n",
              " ['atrair facilmente', {'ALEGRIA': True, 'MEDO': False}],\n",
              " ['rapaz e extremamente atraente', {'ALEGRIA': True, 'MEDO': False}],\n",
              " ['sinto-me vivo', {'ALEGRIA': True, 'MEDO': False}],\n",
              " ['sinto-me paz', {'ALEGRIA': True, 'MEDO': False}],\n",
              " ['lucrar', {'ALEGRIA': True, 'MEDO': False}],\n",
              " ['ordem', {'ALEGRIA': True, 'MEDO': False}],\n",
              " ['arrumar empregar junto', {'ALEGRIA': True, 'MEDO': False}],\n",
              " ['o arrumação terminar alívio', {'ALEGRIA': True, 'MEDO': False}],\n",
              " ['o câncer benigno', {'ALEGRIA': True, 'MEDO': False}],\n",
              " ['o amor abundante', {'ALEGRIA': True, 'MEDO': False}],\n",
              " ['caridoso natal', {'ALEGRIA': True, 'MEDO': False}],\n",
              " ['charme irar atrair o', {'ALEGRIA': True, 'MEDO': False}],\n",
              " ['comer charmoso querer', {'ALEGRIA': True, 'MEDO': False}],\n",
              " ['querido amigo', {'ALEGRIA': True, 'MEDO': False}],\n",
              " ['cuidadoso o sentimento', {'ALEGRIA': True, 'MEDO': False}],\n",
              " ['comover tamanho caridade', {'ALEGRIA': True, 'MEDO': False}],\n",
              " ['chá quentar e reconfortante', {'ALEGRIA': True, 'MEDO': False}],\n",
              " ['alegria', {'ALEGRIA': True, 'MEDO': False}],\n",
              " ['aplaudir o vencedor', {'ALEGRIA': True, 'MEDO': False}],\n",
              " ['palmar parir o aniversariante', {'ALEGRIA': True, 'MEDO': False}],\n",
              " ['desejar o', {'ALEGRIA': True, 'MEDO': False}],\n",
              " ['horar apreciar vinho', {'ALEGRIA': True, 'MEDO': False}],\n",
              " ['apreciar suar presença escola', {'ALEGRIA': True, 'MEDO': False}],\n",
              " ['ansiar trabalho', {'ALEGRIA': True, 'MEDO': False}],\n",
              " ['maravilhoso jogar amistoso', {'ALEGRIA': True, 'MEDO': False}],\n",
              " ['e ótimo o menimos apaziguar', {'ALEGRIA': True, 'MEDO': False}],\n",
              " ['concretizar finalmente sonhar', {'ALEGRIA': True, 'MEDO': False}],\n",
              " ['implorar matar', {'ALEGRIA': False, 'MEDO': True}],\n",
              " ['perigoso', {'ALEGRIA': False, 'MEDO': True}],\n",
              " ['segurar', {'ALEGRIA': False, 'MEDO': True}],\n",
              " ['correr pra', {'ALEGRIA': False, 'MEDO': True}],\n",
              " ['socorrer querer roubar o doce', {'ALEGRIA': False, 'MEDO': True}],\n",
              " ['caro perseguir', {'ALEGRIA': False, 'MEDO': True}],\n",
              " ['entrar perigoso', {'ALEGRIA': False, 'MEDO': True}],\n",
              " ['continuar assustador', {'ALEGRIA': False, 'MEDO': True}],\n",
              " ['o selva animar perigoso', {'ALEGRIA': False, 'MEDO': True}],\n",
              " ['avançar cautela', {'ALEGRIA': False, 'MEDO': True}],\n",
              " ['silencioso cuidar', {'ALEGRIA': False, 'MEDO': True}],\n",
              " ['deixe-me viver', {'ALEGRIA': False, 'MEDO': True}],\n",
              " ['ficar mesada tirar noto', {'ALEGRIA': False, 'MEDO': True}],\n",
              " ['parecer olho o vigiar', {'ALEGRIA': False, 'MEDO': True}],\n",
              " ['o sentença juiz negativo', {'ALEGRIA': False, 'MEDO': True}],\n",
              " ['missão arriscar', {'ALEGRIA': False, 'MEDO': True}],\n",
              " ['salvem-se', {'ALEGRIA': False, 'MEDO': True}],\n",
              " ['planar descobrir', {'ALEGRIA': False, 'MEDO': True}],\n",
              " ['culpar jurar', {'ALEGRIA': False, 'MEDO': True}],\n",
              " ['tomar cuidar o lobisomem', {'ALEGRIA': False, 'MEDO': True}],\n",
              " ['achar descobrir o verdade', {'ALEGRIA': False, 'MEDO': True}],\n",
              " ['deus desaparecer', {'ALEGRIA': False, 'MEDO': True}],\n",
              " ['tomar d', {'ALEGRIA': False, 'MEDO': True}],\n",
              " ['manter segredar descobrir ferrar', {'ALEGRIA': False, 'MEDO': True}],\n",
              " ['soltar inocentar', {'ALEGRIA': False, 'MEDO': True}],\n",
              " ['ouvir passo mim', {'ALEGRIA': False, 'MEDO': True}],\n",
              " ['pedir socorrer', {'ALEGRIA': False, 'MEDO': True}],\n",
              " ['cuidar o curvo o estrar', {'ALEGRIA': False, 'MEDO': True}],\n",
              " ['parecer perigoso', {'ALEGRIA': False, 'MEDO': True}],\n",
              " ['tremer medo', {'ALEGRIA': False, 'MEDO': True}],\n",
              " ['socorrer cair', {'ALEGRIA': False, 'MEDO': True}],\n",
              " ['o florestar negro perigoso', {'ALEGRIA': False, 'MEDO': True}],\n",
              " ['ouvir passo o direção', {'ALEGRIA': False, 'MEDO': True}],\n",
              " ['achar arriscar', {'ALEGRIA': False, 'MEDO': True}],\n",
              " ['voltar perigoso', {'ALEGRIA': False, 'MEDO': True}],\n",
              " ['fugir acabar morto', {'ALEGRIA': False, 'MEDO': True}],\n",
              " ['recear livrar d situação', {'ALEGRIA': False, 'MEDO': True}],\n",
              " ['socorrer armar', {'ALEGRIA': False, 'MEDO': True}],\n",
              " ['eis cuidar bater o postar', {'ALEGRIA': False, 'MEDO': True}],\n",
              " ['socorrer nó afundar', {'ALEGRIA': False, 'MEDO': True}],\n",
              " ['e sério cuidar armar', {'ALEGRIA': False, 'MEDO': True}],\n",
              " ['o tubarão atacar', {'ALEGRIA': False, 'MEDO': True}],\n",
              " ['sentir arrepio ficar o escuro', {'ALEGRIA': False, 'MEDO': True}],\n",
              " ['calmo o dinheiro', {'ALEGRIA': False, 'MEDO': True}],\n",
              " ['achar enganar', {'ALEGRIA': False, 'MEDO': True}],\n",
              " ['ligeiro fugir depressa', {'ALEGRIA': False, 'MEDO': True}],\n",
              " ['crocodilo selvagem vir parir', {'ALEGRIA': False, 'MEDO': True}],\n",
              " ['ficar o achar', {'ALEGRIA': False, 'MEDO': True}],\n",
              " ['fugir o tigre parecer faminto', {'ALEGRIA': False, 'MEDO': True}],\n",
              " ['sair precisar milagre', {'ALEGRIA': False, 'MEDO': True}],\n",
              " ['tirar mim socorrer', {'ALEGRIA': False, 'MEDO': True}],\n",
              " ['nadar afogar', {'ALEGRIA': False, 'MEDO': True}],\n",
              " ['e segurar', {'ALEGRIA': False, 'MEDO': True}],\n",
              " ['apanhar pai boletim', {'ALEGRIA': False, 'MEDO': True}],\n",
              " ['conseguir sair d', {'ALEGRIA': False, 'MEDO': True}],\n",
              " ['sair tardar assaltar', {'ALEGRIA': False, 'MEDO': True}],\n",
              " ['deixar', {'ALEGRIA': False, 'MEDO': True}],\n",
              " ['esperar largar', {'ALEGRIA': False, 'MEDO': True}],\n",
              " ['pelar suar segurança', {'ALEGRIA': False, 'MEDO': True}],\n",
              " ['entregar o dinheiro matar', {'ALEGRIA': False, 'MEDO': True}],\n",
              " ['levar o dinheiro', {'ALEGRIA': False, 'MEDO': True}],\n",
              " ['dirigir rápido', {'ALEGRIA': False, 'MEDO': True}],\n",
              " ['descobrir prender', {'ALEGRIA': False, 'MEDO': True}],\n",
              " ['esperar nenhum', {'ALEGRIA': False, 'MEDO': True}],\n",
              " ['afogar ajudar o sair água', {'ALEGRIA': False, 'MEDO': True}],\n",
              " ['o salvar', {'ALEGRIA': False, 'MEDO': True}],\n",
              " ['querer pensar o acontecer', {'ALEGRIA': False, 'MEDO': True}],\n",
              " ['n cidade umar desgraçar outro', {'ALEGRIA': False, 'MEDO': True}],\n",
              " ['alguém ligar assustar', {'ALEGRIA': False, 'MEDO': True}],\n",
              " ['remedio matar', {'ALEGRIA': False, 'MEDO': True}],\n",
              " ['confiar n cautela', {'ALEGRIA': False, 'MEDO': True}],\n",
              " ['cautela', {'ALEGRIA': False, 'MEDO': True}],\n",
              " ['descobrir deus', {'ALEGRIA': False, 'MEDO': True}],\n",
              " ['recear', {'ALEGRIA': False, 'MEDO': True}],\n",
              " ['o noite e perigoso', {'ALEGRIA': False, 'MEDO': True}],\n",
              " ['estremecer casar', {'ALEGRIA': False, 'MEDO': True}],\n",
              " ['olhar criatura mover monstruosamente', {'ALEGRIA': False, 'MEDO': True}],\n",
              " ['aguentar suspense', {'ALEGRIA': False, 'MEDO': True}],\n",
              " ['afugentar o cão', {'ALEGRIA': False, 'MEDO': True}],\n",
              " ['chocar e amedrontar assassinato brutal', {'ALEGRIA': False, 'MEDO': True}],\n",
              " ['precisar afugentar ímpeto medo infernar', {'ALEGRIA': False, 'MEDO': True}],\n",
              " ['político suar forçar parir afugentar e amedrontar o',\n",
              "  {'ALEGRIA': False, 'MEDO': True}],\n",
              " ['o objetivo d e amedrontar', {'ALEGRIA': False, 'MEDO': True}],\n",
              " ['apavorar', {'ALEGRIA': False, 'MEDO': True}]]"
            ]
          },
          "metadata": {},
          "execution_count": 27
        }
      ]
    },
    {
      "cell_type": "markdown",
      "metadata": {
        "id": "FrqU-kqws5RW"
      },
      "source": [
        "## Criação do classificador"
      ]
    },
    {
      "cell_type": "code",
      "metadata": {
        "id": "NnMZpzwxFk3Z"
      },
      "source": [
        "modelo = spacy.blank('pt')\n",
        "categorias = modelo.create_pipe(\"textcat\")\n",
        "categorias.add_label(\"ALEGRIA\")\n",
        "categorias.add_label(\"MEDO\")\n",
        "modelo.add_pipe(categorias)\n",
        "historico = []"
      ],
      "execution_count": 28,
      "outputs": []
    },
    {
      "cell_type": "code",
      "metadata": {
        "colab": {
          "base_uri": "https://localhost:8080/"
        },
        "id": "UGUTL0KVJotq",
        "outputId": "752faca7-5977-487f-c2be-197f44fd115e"
      },
      "source": [
        "modelo.begin_training()\n",
        "for epoca in range(1000):\n",
        "  random.shuffle(base_dados_final)\n",
        "  losses = {}\n",
        "  for batch in spacy.util.minibatch(base_dados_final, 30):\n",
        "    textos = [modelo(texto) for texto, entities in batch]\n",
        "    annotations = [{'cats': entities} for texto, entities in batch]\n",
        "    modelo.update(textos, annotations, losses=losses)\n",
        "    historico.append(losses)\n",
        "  if epoca % 100 == 0:\n",
        "    print(losses)  "
      ],
      "execution_count": 34,
      "outputs": [
        {
          "output_type": "stream",
          "name": "stdout",
          "text": [
            "{'textcat': 0.006793663575081155}\n",
            "{'textcat': 4.442117895742115e-08}\n",
            "{'textcat': 1.4596804320810008e-08}\n",
            "{'textcat': 8.13942357957842e-09}\n",
            "{'textcat': 4.7879026576769235e-09}\n",
            "{'textcat': 2.6640691042079112e-09}\n",
            "{'textcat': 2.4911523260895407e-09}\n",
            "{'textcat': 1.7185421419263491e-09}\n",
            "{'textcat': 1.338860418365062e-09}\n",
            "{'textcat': 1.3938932647006297e-09}\n"
          ]
        }
      ]
    },
    {
      "cell_type": "code",
      "metadata": {
        "id": "LcoPILOyQwdH"
      },
      "source": [
        "historico_loss = []\n",
        "for i in historico:\n",
        "  historico_loss.append(i.get('textcat')) "
      ],
      "execution_count": 35,
      "outputs": []
    },
    {
      "cell_type": "code",
      "metadata": {
        "colab": {
          "base_uri": "https://localhost:8080/"
        },
        "id": "f27CNtLORKes",
        "outputId": "1040d530-32d4-41f0-fa93-2b9f2361711a"
      },
      "source": [
        "historico_loss = np.array(historico_loss)\n",
        "historico_loss"
      ],
      "execution_count": 36,
      "outputs": [
        {
          "output_type": "execute_result",
          "data": {
            "text/plain": [
              "array([6.79366358e-03, 6.79366358e-03, 6.79366358e-03, ...,\n",
              "       1.16398919e-09, 1.16398919e-09, 1.16398919e-09])"
            ]
          },
          "metadata": {},
          "execution_count": 36
        }
      ]
    },
    {
      "cell_type": "code",
      "metadata": {
        "colab": {
          "base_uri": "https://localhost:8080/",
          "height": 314
        },
        "id": "PcpExGSnRa9t",
        "outputId": "fb5afb78-7e94-4abe-e07a-c5f8ddd8ffda"
      },
      "source": [
        "import matplotlib.pyplot as plt\n",
        "plt.plot(historico_loss)\n",
        "plt.title('Progreção do erro')\n",
        "plt.xlabel('Épocas')\n",
        "plt.ylabel('Erro')"
      ],
      "execution_count": 37,
      "outputs": [
        {
          "output_type": "execute_result",
          "data": {
            "text/plain": [
              "Text(0, 0.5, 'Erro')"
            ]
          },
          "metadata": {},
          "execution_count": 37
        },
        {
          "output_type": "display_data",
          "data": {
            "image/png": "[encoded data removed]",
            "text/plain": [
              "<Figure size 432x288 with 1 Axes>"
            ]
          },
          "metadata": {
            "needs_background": "light"
          }
        }
      ]
    },
    {
      "cell_type": "code",
      "metadata": {
        "id": "mG57xV41R_hT"
      },
      "source": [
        "modelo.to_disk('modelo')"
      ],
      "execution_count": 38,
      "outputs": []
    },
    {
      "cell_type": "markdown",
      "metadata": {
        "id": "GYLNYleLs8gs"
      },
      "source": [
        "## Testes com uma frase"
      ]
    },
    {
      "cell_type": "code",
      "metadata": {
        "id": "rNDhoZ3BSdHs"
      },
      "source": [
        "modelo_carregado = spacy.load('modelo')"
      ],
      "execution_count": 39,
      "outputs": []
    },
    {
      "cell_type": "code",
      "metadata": {
        "id": "vuBfzMN-StHr"
      },
      "source": [
        "texto_positivo = 'o sol está lindo hoje'"
      ],
      "execution_count": 53,
      "outputs": []
    },
    {
      "cell_type": "code",
      "metadata": {
        "colab": {
          "base_uri": "https://localhost:8080/",
          "height": 35
        },
        "id": "BO8PNSp9S1Rb",
        "outputId": "4a1bc3ed-6e28-469c-f534-eb1b33b9dc2d"
      },
      "source": [
        "texto_positivo = preprocessamento(texto_positivo)\n",
        "texto_positivo"
      ],
      "execution_count": 54,
      "outputs": [
        {
          "output_type": "execute_result",
          "data": {
            "application/vnd.google.colaboratory.intrinsic+json": {
              "type": "string"
            },
            "text/plain": [
              "'o sol lindar hoje'"
            ]
          },
          "metadata": {},
          "execution_count": 54
        }
      ]
    },
    {
      "cell_type": "code",
      "metadata": {
        "id": "NlLwVRx3TJzy"
      },
      "source": [
        "previsao = modelo_carregado(texto_positivo)"
      ],
      "execution_count": 55,
      "outputs": []
    },
    {
      "cell_type": "code",
      "metadata": {
        "colab": {
          "base_uri": "https://localhost:8080/"
        },
        "id": "uCcTO_ylTQ-n",
        "outputId": "a48cf316-5b92-4df5-f4d9-e1e3802aeaf7"
      },
      "source": [
        "previsao.cats"
      ],
      "execution_count": 56,
      "outputs": [
        {
          "output_type": "execute_result",
          "data": {
            "text/plain": [
              "{'ALEGRIA': 0.9992850422859192, 'MEDO': 4.539786823443137e-05}"
            ]
          },
          "metadata": {},
          "execution_count": 56
        }
      ]
    },
    {
      "cell_type": "code",
      "metadata": {
        "colab": {
          "base_uri": "https://localhost:8080/"
        },
        "id": "TVQgzwIkTw2E",
        "outputId": "77c85c0d-52c0-467a-899c-e6f9c9a49ab4"
      },
      "source": [
        "texto_negativo = 'ouvi passos no telhado'\n",
        "previsao = modelo_carregado(preprocessamento(texto_negativo))\n",
        "previsao.cats"
      ],
      "execution_count": 58,
      "outputs": [
        {
          "output_type": "execute_result",
          "data": {
            "text/plain": [
              "{'ALEGRIA': 0.060673926025629044, 'MEDO': 0.9986691474914551}"
            ]
          },
          "metadata": {},
          "execution_count": 58
        }
      ]
    },
    {
      "cell_type": "markdown",
      "metadata": {
        "id": "q-pO0iQBtLpE"
      },
      "source": [
        "## Avaliação na base de treinamento"
      ]
    },
    {
      "cell_type": "code",
      "metadata": {
        "id": "IAYAqBlhUd9s"
      },
      "source": [
        "previsoes = []\n",
        "for texto in base_dados['texto']:\n",
        "  previsao = modelo_carregado(texto)\n",
        "  previsoes.append(previsao.cats)"
      ],
      "execution_count": 60,
      "outputs": []
    },
    {
      "cell_type": "code",
      "metadata": {
        "id": "xmSZYiEJU-4g"
      },
      "source": [
        "previsoes"
      ],
      "execution_count": null,
      "outputs": []
    },
    {
      "cell_type": "code",
      "metadata": {
        "id": "msnmddJqVQnI"
      },
      "source": [
        "previsoes_final = []\n",
        "for previsao in previsoes:\n",
        "  if previsao['ALEGRIA'] > previsao['MEDO']:\n",
        "    previsoes_final.append('alegria')\n",
        "  else:\n",
        "    previsoes_final.append('medo')\n",
        "\n",
        "previsoes_final = np.array(previsoes_final)        \n"
      ],
      "execution_count": 63,
      "outputs": []
    },
    {
      "cell_type": "code",
      "metadata": {
        "id": "X_r6pwcwV7aq"
      },
      "source": [
        "respostas_reais = base_dados['emocao'].values"
      ],
      "execution_count": 64,
      "outputs": []
    },
    {
      "cell_type": "code",
      "metadata": {
        "colab": {
          "base_uri": "https://localhost:8080/"
        },
        "id": "6ixPGspVWcv3",
        "outputId": "0d3438db-caf2-4948-c99d-c08bbb44abca"
      },
      "source": [
        "from sklearn.metrics import confusion_matrix, accuracy_score\n",
        "accuracy_score(respostas_reais, previsoes_final)"
      ],
      "execution_count": 65,
      "outputs": [
        {
          "output_type": "execute_result",
          "data": {
            "text/plain": [
              "1.0"
            ]
          },
          "metadata": {},
          "execution_count": 65
        }
      ]
    },
    {
      "cell_type": "code",
      "metadata": {
        "id": "VFnhol8bWwKv"
      },
      "source": [
        "cm = confusion_matrix(respostas_reais, previsoes_final)"
      ],
      "execution_count": 66,
      "outputs": []
    },
    {
      "cell_type": "markdown",
      "metadata": {
        "id": "rwx1d-ZbtO_p"
      },
      "source": [
        "## Avaliação na base de teste"
      ]
    },
    {
      "cell_type": "code",
      "metadata": {
        "id": "6SwHaCJnW6dX"
      },
      "source": [
        "base_dados_teste = pd.read_csv('/content/base_teste.txt', encoding='utf-8')"
      ],
      "execution_count": 68,
      "outputs": []
    },
    {
      "cell_type": "code",
      "metadata": {
        "id": "so2MfkIMXN74"
      },
      "source": [
        "base_dados_teste['texto'] = base_dados_teste['texto'].apply(preprocessamento)"
      ],
      "execution_count": 71,
      "outputs": []
    },
    {
      "cell_type": "code",
      "metadata": {
        "id": "FGD2x3gEXyRH"
      },
      "source": [
        "base_dados_teste.head()"
      ],
      "execution_count": null,
      "outputs": []
    },
    {
      "cell_type": "code",
      "metadata": {
        "id": "voz0XPbDX-Da"
      },
      "source": [
        "previsoes = []\n",
        "for texto in base_dados_teste['texto']:\n",
        "  previsao = modelo_carregado(texto)\n",
        "  previsoes.append(previsao.cats)"
      ],
      "execution_count": 73,
      "outputs": []
    },
    {
      "cell_type": "code",
      "metadata": {
        "id": "BPz4D6JTYJcW"
      },
      "source": [
        "previsoes_final = []\n",
        "for previsao in previsoes:\n",
        "  if previsao['ALEGRIA'] > previsao['MEDO']:\n",
        "    previsoes_final.append('alegria')\n",
        "  else:\n",
        "    previsoes_final.append('medo')\n",
        "\n",
        "previsoes_final = np.array(previsoes_final)"
      ],
      "execution_count": 74,
      "outputs": []
    },
    {
      "cell_type": "code",
      "metadata": {
        "id": "2sc6K4NVYOqk"
      },
      "source": [
        "respostas_reais = base_dados_teste['emocao'].values"
      ],
      "execution_count": 75,
      "outputs": []
    },
    {
      "cell_type": "code",
      "metadata": {
        "colab": {
          "base_uri": "https://localhost:8080/"
        },
        "id": "RNYW1pekYWWc",
        "outputId": "a1557c2d-c1cb-4151-cc8c-c2ed56ec1831"
      },
      "source": [
        "accuracy_score(respostas_reais, previsoes_final)"
      ],
      "execution_count": 76,
      "outputs": [
        {
          "output_type": "execute_result",
          "data": {
            "text/plain": [
              "0.5476190476190477"
            ]
          },
          "metadata": {},
          "execution_count": 76
        }
      ]
    },
    {
      "cell_type": "code",
      "metadata": {
        "colab": {
          "base_uri": "https://localhost:8080/"
        },
        "id": "6YYV9zleYdMF",
        "outputId": "37c778f7-151f-4ea5-c935-022fe1baadce"
      },
      "source": [
        "cm = confusion_matrix(respostas_reais, previsoes_final)\n",
        "cm"
      ],
      "execution_count": 77,
      "outputs": [
        {
          "output_type": "execute_result",
          "data": {
            "text/plain": [
              "array([[28, 20],\n",
              "       [18, 18]])"
            ]
          },
          "metadata": {},
          "execution_count": 77
        }
      ]
    }
  ]
}