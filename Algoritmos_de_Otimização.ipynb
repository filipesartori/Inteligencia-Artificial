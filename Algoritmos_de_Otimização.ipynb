{
  "nbformat": 4,
  "nbformat_minor": 0,
  "metadata": {
    "colab": {
      "name": "Algoritmos de Otimização.ipynb",
      "provenance": [],
      "authorship_tag": "ABX9TyN8vHL8m+K3t0bwoIgm6klg",
      "include_colab_link": true
    },
    "kernelspec": {
      "name": "python3",
      "display_name": "Python 3"
    },
    "language_info": {
      "name": "python"
    }
  },
  "cells": [
    {
      "cell_type": "markdown",
      "metadata": {
        "id": "view-in-github",
        "colab_type": "text"
      },
      "source": [
        "<a href=\"https://colab.research.google.com/github/filipesartori/Inteligencia-Artificial/blob/main/Algoritmos_de_Otimiza%C3%A7%C3%A3o.ipynb\" target=\"_parent\"><img src=\"https://colab.research.google.com/assets/colab-badge.svg\" alt=\"Open In Colab\"/></a>"
      ]
    },
    {
      "cell_type": "markdown",
      "metadata": {
        "id": "nl3askD4uacY"
      },
      "source": [
        "#Algoritmos de Otimização"
      ]
    },
    {
      "cell_type": "markdown",
      "metadata": {
        "id": "k1QQnQ9bufhB"
      },
      "source": [
        "##Representação do problema"
      ]
    },
    {
      "cell_type": "code",
      "metadata": {
        "id": "B9RhJ13EvA20"
      },
      "source": [
        "pessoas = [('Lisboa', 'LIS'),\n",
        "           ('Madrid', 'MAD'),\n",
        "           ('Paris', 'CDG'),\n",
        "           ('Dublin', 'DUB'),\n",
        "           ('Bruxelas', 'BRU'),\n",
        "           ('Londres', 'LHR')]"
      ],
      "execution_count": 1,
      "outputs": []
    },
    {
      "cell_type": "code",
      "metadata": {
        "id": "eTmj6Ee9vxQH"
      },
      "source": [
        "destino = 'FCO'"
      ],
      "execution_count": 2,
      "outputs": []
    },
    {
      "cell_type": "code",
      "metadata": {
        "id": "PFAXcrh9xuqf"
      },
      "source": [
        "voos = {}\n",
        "for linha in open('/content/flights.txt'):\n",
        "  origem, destino, saida, chegada, preco = linha.split(',')\n",
        "  voos.setdefault((origem, destino), [])\n",
        "  voos[(origem, destino)].append((saida, chegada, int(preco)))"
      ],
      "execution_count": 4,
      "outputs": []
    },
    {
      "cell_type": "code",
      "metadata": {
        "colab": {
          "base_uri": "https://localhost:8080/"
        },
        "id": "eNS5iaU91w8N",
        "outputId": "61aafa55-78fa-4edc-e465-fcf80f470389"
      },
      "source": [
        "agenda = [1,2, 3,2, 7,3, 6,3, 2,4, 5,3]\n",
        "len(agenda)"
      ],
      "execution_count": 5,
      "outputs": [
        {
          "output_type": "execute_result",
          "data": {
            "text/plain": [
              "12"
            ]
          },
          "metadata": {},
          "execution_count": 5
        }
      ]
    },
    {
      "cell_type": "code",
      "metadata": {
        "id": "dP1K4r9X0aP_"
      },
      "source": [
        "def imprimir_voos(agenda):\n",
        "  id_voo = -1\n",
        "  total_preco = 0\n",
        "  for i in range(len(agenda) // 2):\n",
        "    nome = pessoas[i][0]\n",
        "    origem = pessoas[i][1]\n",
        "    id_voo += 1\n",
        "    ida = voos[(origem, destino)][agenda[id_voo]]\n",
        "    total_preco += ida[2]\n",
        "    id_voo += 1\n",
        "    volta = voos [(destino, origem)][agenda[id_voo]]\n",
        "    total_preco += volta[2]\n",
        "    print('%10s%10s %5s-%5s %3s %5s-%5s %3s' % (nome, origem, ida[0], ida[1], ida[2],\n",
        "                                                volta[0], volta[1], volta[2]))\n",
        "  print('Preço total: ', total_preco)   "
      ],
      "execution_count": 6,
      "outputs": []
    },
    {
      "cell_type": "code",
      "metadata": {
        "colab": {
          "base_uri": "https://localhost:8080/"
        },
        "id": "EpdG9OZ03WVz",
        "outputId": "45f79e5d-6cb3-4b19-9c47-dae887371968"
      },
      "source": [
        "imprimir_voos(agenda)"
      ],
      "execution_count": 7,
      "outputs": [
        {
          "output_type": "stream",
          "name": "stdout",
          "text": [
            "    Lisboa       LIS  7:39-10:24 219  9:31-11:43 210\n",
            "    Madrid       MAD 11:01-12:39 260  9:11-10:42 172\n",
            "     Paris       CDG 17:07-20:04 291 11:08-14:38 262\n",
            "    Dublin       DUB 15:27-17:18 151 10:33-12:03  74\n",
            "  Bruxelas       BRU  9:08-12:12 364 12:20-16:34 500\n",
            "   Londres       LHR 13:40-15:38 137 10:32-13:16 139\n",
            "Preço total:  2779\n"
          ]
        }
      ]
    },
    {
      "cell_type": "markdown",
      "metadata": {
        "id": "P05DdZwP4nZi"
      },
      "source": [
        "Número de soluções para este problema é 10^12\n",
        "\n",
        "\n",
        "\n",
        "\n",
        "\n",
        "\n",
        "\n"
      ]
    },
    {
      "cell_type": "markdown",
      "metadata": {
        "id": "2UwVkmNMujJT"
      },
      "source": [
        "##Fitness Function"
      ]
    },
    {
      "cell_type": "code",
      "metadata": {
        "id": "M3CoEzSFDWqg"
      },
      "source": [
        "def fitness_function(agenda):\n",
        "  id_voo = -1\n",
        "  total_preco = 0\n",
        "  for i in range(len(agenda) // 2):\n",
        "    origem = pessoas[i][1]\n",
        "    id_voo += 1\n",
        "    ida = voos[(origem, destino)][agenda[id_voo]]\n",
        "    total_preco += ida[2]\n",
        "    id_voo += 1\n",
        "    volta = voos [(destino, origem)][agenda[id_voo]]\n",
        "    total_preco += volta[2]\n",
        "\n",
        "  return total_preco  "
      ],
      "execution_count": 8,
      "outputs": []
    },
    {
      "cell_type": "code",
      "metadata": {
        "colab": {
          "base_uri": "https://localhost:8080/"
        },
        "id": "1F_coBkqEVdj",
        "outputId": "3e70b936-b586-4c3b-e24e-afd91853d027"
      },
      "source": [
        "!pip install mlrose"
      ],
      "execution_count": 9,
      "outputs": [
        {
          "output_type": "stream",
          "name": "stdout",
          "text": [
            "Collecting mlrose\n",
            "  Downloading mlrose-1.3.0-py3-none-any.whl (27 kB)\n",
            "Requirement already satisfied: sklearn in /usr/local/lib/python3.7/dist-packages (from mlrose) (0.0)\n",
            "Requirement already satisfied: numpy in /usr/local/lib/python3.7/dist-packages (from mlrose) (1.19.5)\n",
            "Requirement already satisfied: scipy in /usr/local/lib/python3.7/dist-packages (from mlrose) (1.4.1)\n",
            "Requirement already satisfied: scikit-learn in /usr/local/lib/python3.7/dist-packages (from sklearn->mlrose) (0.22.2.post1)\n",
            "Requirement already satisfied: joblib>=0.11 in /usr/local/lib/python3.7/dist-packages (from scikit-learn->sklearn->mlrose) (1.0.1)\n",
            "Installing collected packages: mlrose\n",
            "Successfully installed mlrose-1.3.0\n"
          ]
        }
      ]
    },
    {
      "cell_type": "code",
      "metadata": {
        "id": "FrPN2BKhFT0v"
      },
      "source": [
        "import mlrose"
      ],
      "execution_count": 11,
      "outputs": []
    },
    {
      "cell_type": "code",
      "metadata": {
        "id": "m6eNQG0aFaYb"
      },
      "source": [
        "fitness = mlrose.CustomFitness(fitness_function)"
      ],
      "execution_count": 12,
      "outputs": []
    },
    {
      "cell_type": "code",
      "metadata": {
        "id": "sD0WuFS5GR7j"
      },
      "source": [
        "problema = mlrose.DiscreteOpt(length=12, fitness_fn=fitness, \n",
        "                              maximize = False, max_val = 10)"
      ],
      "execution_count": 13,
      "outputs": []
    },
    {
      "cell_type": "markdown",
      "metadata": {
        "id": "fAj9EXSDunNW"
      },
      "source": [
        "##Hill Climb"
      ]
    },
    {
      "cell_type": "code",
      "metadata": {
        "colab": {
          "base_uri": "https://localhost:8080/"
        },
        "id": "VvwBNyg-HcQp",
        "outputId": "dd7d6d1f-ff6a-4e91-b0fb-d1321f023f82"
      },
      "source": [
        "melhor_solucao, melhor_custo = mlrose.hill_climb(problema)\n",
        "melhor_solucao, melhor_custo "
      ],
      "execution_count": 15,
      "outputs": [
        {
          "output_type": "execute_result",
          "data": {
            "text/plain": [
              "(array([2, 6, 5, 7, 8, 1, 3, 6, 0, 2, 9, 1]), 1566.0)"
            ]
          },
          "metadata": {},
          "execution_count": 15
        }
      ]
    },
    {
      "cell_type": "code",
      "metadata": {
        "colab": {
          "base_uri": "https://localhost:8080/"
        },
        "id": "XyUv3KyjIGMc",
        "outputId": "4c7dc7f5-6d4a-4e32-9c86-f97c6b69b658"
      },
      "source": [
        "imprimir_voos(melhor_solucao)"
      ],
      "execution_count": 16,
      "outputs": [
        {
          "output_type": "stream",
          "name": "stdout",
          "text": [
            "    Lisboa       LIS  9:15-12:03  99 15:07-17:21 129\n",
            "    Madrid       MAD 14:22-16:32 126 17:06-20:00  95\n",
            "     Paris       CDG 18:23-21:35 134  8:23-11:07 143\n",
            "    Dublin       DUB 11:16-13:29  83 15:25-16:58  62\n",
            "  Bruxelas       BRU  6:12-10:22 230  9:49-13:51 229\n",
            "   Londres       LHR 20:30-23:11 114  8:19-11:16 122\n",
            "Preço total:  1566\n"
          ]
        }
      ]
    },
    {
      "cell_type": "markdown",
      "metadata": {
        "id": "YU2raJphusOF"
      },
      "source": [
        "## Simuleted annealing"
      ]
    },
    {
      "cell_type": "code",
      "metadata": {
        "colab": {
          "base_uri": "https://localhost:8080/"
        },
        "id": "wmzTguU7JK44",
        "outputId": "f77e0944-2267-4d1a-fba2-ed2ae18b7bc2"
      },
      "source": [
        "melhor_solucao, melhor_custo = mlrose.simulated_annealing(problema, random_state=1)\n",
        "melhor_solucao, melhor_custo "
      ],
      "execution_count": 23,
      "outputs": [
        {
          "output_type": "execute_result",
          "data": {
            "text/plain": [
              "(array([7, 9, 5, 8, 8, 0, 1, 5, 3, 3, 9, 5]), 1865.0)"
            ]
          },
          "metadata": {},
          "execution_count": 23
        }
      ]
    },
    {
      "cell_type": "code",
      "metadata": {
        "colab": {
          "base_uri": "https://localhost:8080/"
        },
        "id": "zqWuJoE-KFaB",
        "outputId": "d84a7d48-fb7d-4a21-8c25-3ae951710a1b"
      },
      "source": [
        "imprimir_voos(melhor_solucao)"
      ],
      "execution_count": 24,
      "outputs": [
        {
          "output_type": "stream",
          "name": "stdout",
          "text": [
            "    Lisboa       LIS 16:51-19:09 147 20:05-21:44 172\n",
            "    Madrid       MAD 14:22-16:32 126 18:33-20:22 143\n",
            "     Paris       CDG 18:23-21:35 134  6:33- 9:14 172\n",
            "    Dublin       DUB  8:04-10:11  95 13:39-15:30  74\n",
            "  Bruxelas       BRU 10:30-14:57 290 10:51-14:16 256\n",
            "   Londres       LHR 20:30-23:11 114 13:37-15:33 142\n",
            "Preço total:  1865\n"
          ]
        }
      ]
    },
    {
      "cell_type": "markdown",
      "metadata": {
        "id": "RmfxvUXmu0xD"
      },
      "source": [
        "## Algoritmo genético"
      ]
    },
    {
      "cell_type": "code",
      "metadata": {
        "colab": {
          "base_uri": "https://localhost:8080/"
        },
        "id": "9Oz5Y5_XLilx",
        "outputId": "e97d4d1f-72e8-4e18-a4a6-93e15200e26d"
      },
      "source": [
        "melhor_solucao, melhor_custo = mlrose.genetic_alg(problema, pop_size=500, mutation_prob=0.2, random_state= 1 )\n",
        "melhor_solucao, melhor_custo"
      ],
      "execution_count": 29,
      "outputs": [
        {
          "output_type": "execute_result",
          "data": {
            "text/plain": [
              "(array([7, 3, 1, 2, 9, 0, 3, 8, 0, 3, 4, 1]), 1956.0)"
            ]
          },
          "metadata": {},
          "execution_count": 29
        }
      ]
    },
    {
      "cell_type": "code",
      "metadata": {
        "colab": {
          "base_uri": "https://localhost:8080/"
        },
        "id": "3lR2HY2PMXEt",
        "outputId": "dac4d802-2fef-4e4f-9335-6ad1407413d1"
      },
      "source": [
        "imprimir_voos(melhor_solucao)"
      ],
      "execution_count": 30,
      "outputs": [
        {
          "output_type": "stream",
          "name": "stdout",
          "text": [
            "    Lisboa       LIS 16:51-19:09 147 11:07-13:24 171\n",
            "    Madrid       MAD  8:25-10:34 157  9:11-10:42 172\n",
            "     Paris       CDG 19:53-22:21 173  6:33- 9:14 172\n",
            "    Dublin       DUB 11:16-13:29  83 18:24-20:49 124\n",
            "  Bruxelas       BRU  6:12-10:22 230 10:51-14:16 256\n",
            "   Londres       LHR 12:08-14:59 149  8:19-11:16 122\n",
            "Preço total:  1956\n"
          ]
        }
      ]
    }
  ]
}